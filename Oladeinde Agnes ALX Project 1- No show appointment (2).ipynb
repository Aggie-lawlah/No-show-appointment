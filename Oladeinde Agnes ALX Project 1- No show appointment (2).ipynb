{
 "cells": [
  {
   "cell_type": "markdown",
   "id": "5e689a48",
   "metadata": {},
   "source": [
    "# INVESTIGATE A DATASET PROJECT- No Show Appointments\n",
    "\n",
    "##  Table of Contents\n",
    "    Introduction.\n",
    "    Data Wrangling.\n",
    "    Exploratory Data Analysis.\n",
    "    Conclusions"
   ]
  },
  {
   "cell_type": "markdown",
   "id": "09c6cc4c",
   "metadata": {},
   "source": [
    "# 1. Introduction\n",
    "\n",
    "This project is my first project in the ALX bootcamp.\n",
    "From all the projects available, I have picked the \"No show appointment\" a project to investigate a dataset that collects information from 100k medical appointments in Brazil and is focused on the question of whether or not patients show up for their appointment.\n",
    "\n",
    "The dataset contains the following data;\n",
    "\n",
    "PatientId; identical for each patient.\n",
    "\n",
    "AppointmentID; identical to every scheduled appointment.\n",
    "\n",
    "Gender; shows the patient's gender (M/F).\n",
    "\n",
    "ScheduledDay; indicates the Date/Time the patient set up their appointment.\n",
    "\n",
    "AppointmentDay; indicates the date/time the patient called to book their appointment.\n",
    "\n",
    "Age; displays the ages of each patient.\n",
    "\n",
    "Neighborhood; indicates the location of the hospital.\n",
    "\n",
    "Scholarship; indicates whether or not the patient is enrolled in Brasilian welfare program Bolsa Família.\n",
    "\n",
    "Hipertension; indicates whether or not the patient suffers from Hypertension.\n",
    "\n",
    "Diabetes; indicates whether or not the patient suffers from Diabetes.\n",
    "\n",
    "Alcoholism; indicates whether or not the patient suffers from Alcoholism.\n",
    "\n",
    "Handcap; indicates whether or not the patient is with special needs.\n",
    "\n",
    "SMS_received; indicates whether or not the patient has received a text message to remind them of their appointment.\n",
    "\n",
    "Show-up; ‘No’ if the patient showed up to their appointment, and ‘Yes’ if they did not show up."
   ]
  },
  {
   "cell_type": "code",
   "execution_count": 55,
   "id": "3610671e",
   "metadata": {},
   "outputs": [],
   "source": [
    "#IMPORT PYTHON PACKAGES \n",
    "\n",
    "import pandas as pd\n",
    "import numpy as np\n",
    "import matplotlib.pyplot as plt\n",
    "import seaborn as sns\n",
    "\n",
    "%matplotlib inline"
   ]
  },
  {
   "cell_type": "code",
   "execution_count": 56,
   "id": "86e4cf13",
   "metadata": {
    "scrolled": true
   },
   "outputs": [
    {
     "data": {
      "text/html": [
       "<div>\n",
       "<style scoped>\n",
       "    .dataframe tbody tr th:only-of-type {\n",
       "        vertical-align: middle;\n",
       "    }\n",
       "\n",
       "    .dataframe tbody tr th {\n",
       "        vertical-align: top;\n",
       "    }\n",
       "\n",
       "    .dataframe thead th {\n",
       "        text-align: right;\n",
       "    }\n",
       "</style>\n",
       "<table border=\"1\" class=\"dataframe\">\n",
       "  <thead>\n",
       "    <tr style=\"text-align: right;\">\n",
       "      <th></th>\n",
       "      <th>PatientId</th>\n",
       "      <th>AppointmentID</th>\n",
       "      <th>Gender</th>\n",
       "      <th>ScheduledDay</th>\n",
       "      <th>AppointmentDay</th>\n",
       "      <th>Age</th>\n",
       "      <th>Neighbourhood</th>\n",
       "      <th>Scholarship</th>\n",
       "      <th>Hipertension</th>\n",
       "      <th>Diabetes</th>\n",
       "      <th>Alcoholism</th>\n",
       "      <th>Handcap</th>\n",
       "      <th>SMS_received</th>\n",
       "      <th>No-show</th>\n",
       "    </tr>\n",
       "  </thead>\n",
       "  <tbody>\n",
       "    <tr>\n",
       "      <th>0</th>\n",
       "      <td>2.987250e+13</td>\n",
       "      <td>5642903</td>\n",
       "      <td>F</td>\n",
       "      <td>2016-04-29T18:38:08Z</td>\n",
       "      <td>2016-04-29T00:00:00Z</td>\n",
       "      <td>62</td>\n",
       "      <td>JARDIM DA PENHA</td>\n",
       "      <td>0</td>\n",
       "      <td>1</td>\n",
       "      <td>0</td>\n",
       "      <td>0</td>\n",
       "      <td>0</td>\n",
       "      <td>0</td>\n",
       "      <td>No</td>\n",
       "    </tr>\n",
       "    <tr>\n",
       "      <th>1</th>\n",
       "      <td>5.589978e+14</td>\n",
       "      <td>5642503</td>\n",
       "      <td>M</td>\n",
       "      <td>2016-04-29T16:08:27Z</td>\n",
       "      <td>2016-04-29T00:00:00Z</td>\n",
       "      <td>56</td>\n",
       "      <td>JARDIM DA PENHA</td>\n",
       "      <td>0</td>\n",
       "      <td>0</td>\n",
       "      <td>0</td>\n",
       "      <td>0</td>\n",
       "      <td>0</td>\n",
       "      <td>0</td>\n",
       "      <td>No</td>\n",
       "    </tr>\n",
       "    <tr>\n",
       "      <th>2</th>\n",
       "      <td>4.262962e+12</td>\n",
       "      <td>5642549</td>\n",
       "      <td>F</td>\n",
       "      <td>2016-04-29T16:19:04Z</td>\n",
       "      <td>2016-04-29T00:00:00Z</td>\n",
       "      <td>62</td>\n",
       "      <td>MATA DA PRAIA</td>\n",
       "      <td>0</td>\n",
       "      <td>0</td>\n",
       "      <td>0</td>\n",
       "      <td>0</td>\n",
       "      <td>0</td>\n",
       "      <td>0</td>\n",
       "      <td>No</td>\n",
       "    </tr>\n",
       "    <tr>\n",
       "      <th>3</th>\n",
       "      <td>8.679512e+11</td>\n",
       "      <td>5642828</td>\n",
       "      <td>F</td>\n",
       "      <td>2016-04-29T17:29:31Z</td>\n",
       "      <td>2016-04-29T00:00:00Z</td>\n",
       "      <td>8</td>\n",
       "      <td>PONTAL DE CAMBURI</td>\n",
       "      <td>0</td>\n",
       "      <td>0</td>\n",
       "      <td>0</td>\n",
       "      <td>0</td>\n",
       "      <td>0</td>\n",
       "      <td>0</td>\n",
       "      <td>No</td>\n",
       "    </tr>\n",
       "    <tr>\n",
       "      <th>4</th>\n",
       "      <td>8.841186e+12</td>\n",
       "      <td>5642494</td>\n",
       "      <td>F</td>\n",
       "      <td>2016-04-29T16:07:23Z</td>\n",
       "      <td>2016-04-29T00:00:00Z</td>\n",
       "      <td>56</td>\n",
       "      <td>JARDIM DA PENHA</td>\n",
       "      <td>0</td>\n",
       "      <td>1</td>\n",
       "      <td>1</td>\n",
       "      <td>0</td>\n",
       "      <td>0</td>\n",
       "      <td>0</td>\n",
       "      <td>No</td>\n",
       "    </tr>\n",
       "  </tbody>\n",
       "</table>\n",
       "</div>"
      ],
      "text/plain": [
       "      PatientId  AppointmentID Gender          ScheduledDay  \\\n",
       "0  2.987250e+13        5642903      F  2016-04-29T18:38:08Z   \n",
       "1  5.589978e+14        5642503      M  2016-04-29T16:08:27Z   \n",
       "2  4.262962e+12        5642549      F  2016-04-29T16:19:04Z   \n",
       "3  8.679512e+11        5642828      F  2016-04-29T17:29:31Z   \n",
       "4  8.841186e+12        5642494      F  2016-04-29T16:07:23Z   \n",
       "\n",
       "         AppointmentDay  Age      Neighbourhood  Scholarship  Hipertension  \\\n",
       "0  2016-04-29T00:00:00Z   62    JARDIM DA PENHA            0             1   \n",
       "1  2016-04-29T00:00:00Z   56    JARDIM DA PENHA            0             0   \n",
       "2  2016-04-29T00:00:00Z   62      MATA DA PRAIA            0             0   \n",
       "3  2016-04-29T00:00:00Z    8  PONTAL DE CAMBURI            0             0   \n",
       "4  2016-04-29T00:00:00Z   56    JARDIM DA PENHA            0             1   \n",
       "\n",
       "   Diabetes  Alcoholism  Handcap  SMS_received No-show  \n",
       "0         0           0        0             0      No  \n",
       "1         0           0        0             0      No  \n",
       "2         0           0        0             0      No  \n",
       "3         0           0        0             0      No  \n",
       "4         1           0        0             0      No  "
      ]
     },
     "execution_count": 56,
     "metadata": {},
     "output_type": "execute_result"
    }
   ],
   "source": [
    "#Load the dataset for the project\n",
    "\n",
    "No_show_apt_df = pd.read_csv(r'C:\\Users\\ASUS\\Desktop\\ALX Project_1\\Noshowappointment.csv')\n",
    "#view the data\n",
    "No_show_apt_df.head()"
   ]
  },
  {
   "cell_type": "markdown",
   "id": "896005ac",
   "metadata": {},
   "source": [
    "## 1.1 Asking Questions"
   ]
  },
  {
   "cell_type": "markdown",
   "id": "a2112457",
   "metadata": {},
   "source": [
    "#### Asking Questions based on the parameters in the data. On exploring my data, these are the questions I'd like to answer:\n",
    "1. The percentage of shows to no-shows.\n",
    "2. The rate of showing up for medical appointments based on age.\n",
    "3. What gender has a better performance in showing up for their medical appointments.\n"
   ]
  },
  {
   "cell_type": "markdown",
   "id": "e59d8879",
   "metadata": {},
   "source": [
    "# 2. Data Wrangling"
   ]
  },
  {
   "cell_type": "code",
   "execution_count": 57,
   "id": "65cac815",
   "metadata": {
    "scrolled": true
   },
   "outputs": [
    {
     "name": "stdout",
     "output_type": "stream",
     "text": [
      "<class 'pandas.core.frame.DataFrame'>\n",
      "RangeIndex: 110527 entries, 0 to 110526\n",
      "Data columns (total 14 columns):\n",
      " #   Column          Non-Null Count   Dtype  \n",
      "---  ------          --------------   -----  \n",
      " 0   PatientId       110527 non-null  float64\n",
      " 1   AppointmentID   110527 non-null  int64  \n",
      " 2   Gender          110527 non-null  object \n",
      " 3   ScheduledDay    110527 non-null  object \n",
      " 4   AppointmentDay  110527 non-null  object \n",
      " 5   Age             110527 non-null  int64  \n",
      " 6   Neighbourhood   110527 non-null  object \n",
      " 7   Scholarship     110527 non-null  int64  \n",
      " 8   Hipertension    110527 non-null  int64  \n",
      " 9   Diabetes        110527 non-null  int64  \n",
      " 10  Alcoholism      110527 non-null  int64  \n",
      " 11  Handcap         110527 non-null  int64  \n",
      " 12  SMS_received    110527 non-null  int64  \n",
      " 13  No-show         110527 non-null  object \n",
      "dtypes: float64(1), int64(8), object(5)\n",
      "memory usage: 11.8+ MB\n"
     ]
    }
   ],
   "source": [
    "#looking through the dataset for null values and datatype of each variable\n",
    "\n",
    "No_show_apt_df.info()"
   ]
  },
  {
   "cell_type": "code",
   "execution_count": 58,
   "id": "08807b11",
   "metadata": {
    "scrolled": true
   },
   "outputs": [
    {
     "data": {
      "text/plain": [
       "PatientId         float64\n",
       "AppointmentID       int64\n",
       "Gender             object\n",
       "ScheduledDay       object\n",
       "AppointmentDay     object\n",
       "Age                 int64\n",
       "Neighbourhood      object\n",
       "Scholarship         int64\n",
       "Hipertension        int64\n",
       "Diabetes            int64\n",
       "Alcoholism          int64\n",
       "Handcap             int64\n",
       "SMS_received        int64\n",
       "No-show            object\n",
       "dtype: object"
      ]
     },
     "execution_count": 58,
     "metadata": {},
     "output_type": "execute_result"
    }
   ],
   "source": [
    "#examining the columns, rows for missing data and incorrect entries\n",
    "\n",
    "No_show_apt_df.dtypes #checking datatypes"
   ]
  },
  {
   "cell_type": "code",
   "execution_count": 59,
   "id": "df7a3236",
   "metadata": {},
   "outputs": [
    {
     "data": {
      "text/plain": [
       "PatientId         0\n",
       "AppointmentID     0\n",
       "Gender            0\n",
       "ScheduledDay      0\n",
       "AppointmentDay    0\n",
       "Age               0\n",
       "Neighbourhood     0\n",
       "Scholarship       0\n",
       "Hipertension      0\n",
       "Diabetes          0\n",
       "Alcoholism        0\n",
       "Handcap           0\n",
       "SMS_received      0\n",
       "No-show           0\n",
       "dtype: int64"
      ]
     },
     "execution_count": 59,
     "metadata": {},
     "output_type": "execute_result"
    }
   ],
   "source": [
    "# Check if there is any missing values\n",
    "\n",
    "No_show_apt_df.isnull().sum()"
   ]
  },
  {
   "cell_type": "markdown",
   "id": "383fe308",
   "metadata": {},
   "source": [
    "### 2.2 Checking for duplicates in the dataset and individual columns."
   ]
  },
  {
   "cell_type": "code",
   "execution_count": 60,
   "id": "e8a22a7f",
   "metadata": {},
   "outputs": [
    {
     "data": {
      "text/plain": [
       "0"
      ]
     },
     "execution_count": 60,
     "metadata": {},
     "output_type": "execute_result"
    }
   ],
   "source": [
    "# Check for duplicate rows \n",
    "No_show_apt_df.duplicated().sum()"
   ]
  },
  {
   "cell_type": "code",
   "execution_count": 61,
   "id": "e89dd4ed",
   "metadata": {},
   "outputs": [
    {
     "data": {
      "text/plain": [
       "0"
      ]
     },
     "execution_count": 61,
     "metadata": {},
     "output_type": "execute_result"
    }
   ],
   "source": [
    "#checking for duplicates in the appointmentid column\n",
    "sum(No_show_apt_df.AppointmentID.duplicated())"
   ]
  },
  {
   "cell_type": "code",
   "execution_count": 62,
   "id": "eceffc58",
   "metadata": {},
   "outputs": [
    {
     "data": {
      "text/plain": [
       "48228"
      ]
     },
     "execution_count": 62,
     "metadata": {},
     "output_type": "execute_result"
    }
   ],
   "source": [
    "#checking for duplicates in the patientid column\n",
    "sum(No_show_apt_df.PatientId.duplicated())"
   ]
  },
  {
   "cell_type": "code",
   "execution_count": 63,
   "id": "7eb4b541",
   "metadata": {},
   "outputs": [
    {
     "data": {
      "text/plain": [
       "8.221459e+14    88\n",
       "9.963767e+10    84\n",
       "2.688613e+13    70\n",
       "3.353478e+13    65\n",
       "6.264199e+12    62\n",
       "                ..\n",
       "8.622636e+11     1\n",
       "9.267587e+12     1\n",
       "5.764356e+12     1\n",
       "5.712491e+12     1\n",
       "1.557663e+13     1\n",
       "Name: PatientId, Length: 62299, dtype: int64"
      ]
     },
     "execution_count": 63,
     "metadata": {},
     "output_type": "execute_result"
    }
   ],
   "source": [
    "No_show_apt_df.PatientId.value_counts()"
   ]
  },
  {
   "cell_type": "markdown",
   "id": "3dcfceb2",
   "metadata": {},
   "source": [
    "Repeated Patient ID is going to be taken as an indication that some patients had multiple appointments. To this end, our analusis will be based on the appointmentid rather than Patientid which has repeated values."
   ]
  },
  {
   "cell_type": "markdown",
   "id": "e1ebe803",
   "metadata": {},
   "source": [
    "### 2.3 Incorrect Data Validation"
   ]
  },
  {
   "cell_type": "markdown",
   "id": "05d1410c",
   "metadata": {},
   "source": [
    "This aspect of wrangling depends majorly on the type of data and mode of entry, we'll be looking out for missplellings, negative entries and zero values."
   ]
  },
  {
   "cell_type": "code",
   "execution_count": 64,
   "id": "58dddaf5",
   "metadata": {},
   "outputs": [
    {
     "data": {
      "text/plain": [
       "array(['F', 'M'], dtype=object)"
      ]
     },
     "execution_count": 64,
     "metadata": {},
     "output_type": "execute_result"
    }
   ],
   "source": [
    "#checking for the different unique entries for gender\n",
    "No_show_apt_df['Gender'].unique()"
   ]
  },
  {
   "cell_type": "code",
   "execution_count": 65,
   "id": "a2ee3018",
   "metadata": {},
   "outputs": [
    {
     "data": {
      "text/plain": [
       "array([ 62,  56,   8,  76,  23,  39,  21,  19,  30,  29,  22,  28,  54,\n",
       "        15,  50,  40,  46,   4,  13,  65,  45,  51,  32,  12,  61,  38,\n",
       "        79,  18,  63,  64,  85,  59,  55,  71,  49,  78,  31,  58,  27,\n",
       "         6,   2,  11,   7,   0,   3,   1,  69,  68,  60,  67,  36,  10,\n",
       "        35,  20,  26,  34,  33,  16,  42,   5,  47,  17,  41,  44,  37,\n",
       "        24,  66,  77,  81,  70,  53,  75,  73,  52,  74,  43,  89,  57,\n",
       "        14,   9,  48,  83,  72,  25,  80,  87,  88,  84,  82,  90,  94,\n",
       "        86,  91,  98,  92,  96,  93,  95,  97, 102, 115, 100,  99,  -1],\n",
       "      dtype=int64)"
      ]
     },
     "execution_count": 65,
     "metadata": {},
     "output_type": "execute_result"
    }
   ],
   "source": [
    "#checking for unique values in the age column\n",
    "No_show_apt_df['Age'].unique()"
   ]
  },
  {
   "cell_type": "code",
   "execution_count": 66,
   "id": "531a0a46",
   "metadata": {},
   "outputs": [
    {
     "data": {
      "text/plain": [
       "99832   -1\n",
       "Name: Age, dtype: int64"
      ]
     },
     "execution_count": 66,
     "metadata": {},
     "output_type": "execute_result"
    }
   ],
   "source": [
    "# Check to confirm the negative value in the Age column \n",
    "\n",
    "No_show_apt_df[No_show_apt_df.Age < 0]['Age']"
   ]
  },
  {
   "cell_type": "markdown",
   "id": "6bc2e0f7",
   "metadata": {},
   "source": [
    "Theoretically and practically, age should contain positive integers only except for infants whose ages are > 0 and less than 1, tho they are not integers, they are positive. We'll be dropping this particular record."
   ]
  },
  {
   "cell_type": "code",
   "execution_count": 67,
   "id": "442269fa",
   "metadata": {},
   "outputs": [
    {
     "data": {
      "text/plain": [
       "Series([], Name: PatientId, dtype: float64)"
      ]
     },
     "execution_count": 67,
     "metadata": {},
     "output_type": "execute_result"
    }
   ],
   "source": [
    "# Check for zero/negative PatientsId values\n",
    "\n",
    "No_show_apt_df[No_show_apt_df.PatientId <= 0]['PatientId']"
   ]
  },
  {
   "cell_type": "code",
   "execution_count": 68,
   "id": "42cce805",
   "metadata": {},
   "outputs": [
    {
     "data": {
      "text/plain": [
       "Series([], Name: AppointmentID, dtype: int64)"
      ]
     },
     "execution_count": 68,
     "metadata": {},
     "output_type": "execute_result"
    }
   ],
   "source": [
    "#Check for zero/negative AppointmentID\n",
    "No_show_apt_df[No_show_apt_df.AppointmentID < 0]['AppointmentID'] "
   ]
  },
  {
   "cell_type": "code",
   "execution_count": 69,
   "id": "c337298d",
   "metadata": {},
   "outputs": [
    {
     "data": {
      "text/plain": [
       "array(['2016-04-29T18:38:08Z', '2016-04-29T16:08:27Z',\n",
       "       '2016-04-29T16:19:04Z', ..., '2016-04-27T16:03:52Z',\n",
       "       '2016-04-27T15:09:23Z', '2016-04-27T13:30:56Z'], dtype=object)"
      ]
     },
     "execution_count": 69,
     "metadata": {},
     "output_type": "execute_result"
    }
   ],
   "source": [
    "#checking for unique values in scheduledDay column\n",
    "No_show_apt_df['ScheduledDay'].unique()"
   ]
  },
  {
   "cell_type": "code",
   "execution_count": 70,
   "id": "48621eb7",
   "metadata": {},
   "outputs": [
    {
     "data": {
      "text/plain": [
       "array(['2016-04-29T00:00:00Z', '2016-05-03T00:00:00Z',\n",
       "       '2016-05-10T00:00:00Z', '2016-05-17T00:00:00Z',\n",
       "       '2016-05-24T00:00:00Z', '2016-05-31T00:00:00Z',\n",
       "       '2016-05-02T00:00:00Z', '2016-05-30T00:00:00Z',\n",
       "       '2016-05-16T00:00:00Z', '2016-05-04T00:00:00Z',\n",
       "       '2016-05-19T00:00:00Z', '2016-05-12T00:00:00Z',\n",
       "       '2016-05-06T00:00:00Z', '2016-05-20T00:00:00Z',\n",
       "       '2016-05-05T00:00:00Z', '2016-05-13T00:00:00Z',\n",
       "       '2016-05-09T00:00:00Z', '2016-05-25T00:00:00Z',\n",
       "       '2016-05-11T00:00:00Z', '2016-05-18T00:00:00Z',\n",
       "       '2016-05-14T00:00:00Z', '2016-06-02T00:00:00Z',\n",
       "       '2016-06-03T00:00:00Z', '2016-06-06T00:00:00Z',\n",
       "       '2016-06-07T00:00:00Z', '2016-06-01T00:00:00Z',\n",
       "       '2016-06-08T00:00:00Z'], dtype=object)"
      ]
     },
     "execution_count": 70,
     "metadata": {},
     "output_type": "execute_result"
    }
   ],
   "source": [
    "#checking for unique values in the neighbourhood column\n",
    "No_show_apt_df['AppointmentDay'].unique()"
   ]
  },
  {
   "cell_type": "code",
   "execution_count": 71,
   "id": "93c19e4e",
   "metadata": {},
   "outputs": [
    {
     "data": {
      "text/plain": [
       "array(['JARDIM DA PENHA', 'MATA DA PRAIA', 'PONTAL DE CAMBURI',\n",
       "       'REPÚBLICA', 'GOIABEIRAS', 'ANDORINHAS', 'CONQUISTA',\n",
       "       'NOVA PALESTINA', 'DA PENHA', 'TABUAZEIRO', 'BENTO FERREIRA',\n",
       "       'SÃO PEDRO', 'SANTA MARTHA', 'SÃO CRISTÓVÃO', 'MARUÍPE',\n",
       "       'GRANDE VITÓRIA', 'SÃO BENEDITO', 'ILHA DAS CAIEIRAS',\n",
       "       'SANTO ANDRÉ', 'SOLON BORGES', 'BONFIM', 'JARDIM CAMBURI',\n",
       "       'MARIA ORTIZ', 'JABOUR', 'ANTÔNIO HONÓRIO', 'RESISTÊNCIA',\n",
       "       'ILHA DE SANTA MARIA', 'JUCUTUQUARA', 'MONTE BELO',\n",
       "       'MÁRIO CYPRESTE', 'SANTO ANTÔNIO', 'BELA VISTA', 'PRAIA DO SUÁ',\n",
       "       'SANTA HELENA', 'ITARARÉ', 'INHANGUETÁ', 'UNIVERSITÁRIO',\n",
       "       'SÃO JOSÉ', 'REDENÇÃO', 'SANTA CLARA', 'CENTRO', 'PARQUE MOSCOSO',\n",
       "       'DO MOSCOSO', 'SANTOS DUMONT', 'CARATOÍRA', 'ARIOVALDO FAVALESSA',\n",
       "       'ILHA DO FRADE', 'GURIGICA', 'JOANA D´ARC', 'CONSOLAÇÃO',\n",
       "       'PRAIA DO CANTO', 'BOA VISTA', 'MORADA DE CAMBURI', 'SANTA LUÍZA',\n",
       "       'SANTA LÚCIA', 'BARRO VERMELHO', 'ESTRELINHA', 'FORTE SÃO JOÃO',\n",
       "       'FONTE GRANDE', 'ENSEADA DO SUÁ', 'SANTOS REIS', 'PIEDADE',\n",
       "       'JESUS DE NAZARETH', 'SANTA TEREZA', 'CRUZAMENTO',\n",
       "       'ILHA DO PRÍNCIPE', 'ROMÃO', 'COMDUSA', 'SANTA CECÍLIA',\n",
       "       'VILA RUBIM', 'DE LOURDES', 'DO QUADRO', 'DO CABRAL', 'HORTO',\n",
       "       'SEGURANÇA DO LAR', 'ILHA DO BOI', 'FRADINHOS', 'NAZARETH',\n",
       "       'AEROPORTO', 'ILHAS OCEÂNICAS DE TRINDADE', 'PARQUE INDUSTRIAL'],\n",
       "      dtype=object)"
      ]
     },
     "execution_count": 71,
     "metadata": {},
     "output_type": "execute_result"
    }
   ],
   "source": [
    "No_show_apt_df['Neighbourhood'].unique()"
   ]
  },
  {
   "cell_type": "code",
   "execution_count": 72,
   "id": "cae40b28",
   "metadata": {},
   "outputs": [
    {
     "data": {
      "text/plain": [
       "array([0, 1, 2, 3, 4], dtype=int64)"
      ]
     },
     "execution_count": 72,
     "metadata": {},
     "output_type": "execute_result"
    }
   ],
   "source": [
    "#checking for unique values in the Handicap column\n",
    "No_show_apt_df['Handcap'].unique()"
   ]
  },
  {
   "cell_type": "code",
   "execution_count": 73,
   "id": "81ad79fb",
   "metadata": {},
   "outputs": [
    {
     "data": {
      "text/plain": [
       "array([0, 1], dtype=int64)"
      ]
     },
     "execution_count": 73,
     "metadata": {},
     "output_type": "execute_result"
    }
   ],
   "source": [
    "#checking for unique vales in the scholarship column\n",
    "No_show_apt_df['Scholarship'].unique()"
   ]
  },
  {
   "cell_type": "code",
   "execution_count": 74,
   "id": "4f77da58",
   "metadata": {},
   "outputs": [
    {
     "data": {
      "text/plain": [
       "array([1, 0], dtype=int64)"
      ]
     },
     "execution_count": 74,
     "metadata": {},
     "output_type": "execute_result"
    }
   ],
   "source": [
    "#checking for unique vales in the hypertension column\n",
    "No_show_apt_df['Hipertension'].unique()"
   ]
  },
  {
   "cell_type": "code",
   "execution_count": 75,
   "id": "d6264c36",
   "metadata": {},
   "outputs": [
    {
     "data": {
      "text/plain": [
       "array([0, 1], dtype=int64)"
      ]
     },
     "execution_count": 75,
     "metadata": {},
     "output_type": "execute_result"
    }
   ],
   "source": [
    "#checking for unique vales in the diabetes column\n",
    "No_show_apt_df['Diabetes'].unique()"
   ]
  },
  {
   "cell_type": "code",
   "execution_count": 76,
   "id": "de6f1155",
   "metadata": {},
   "outputs": [
    {
     "data": {
      "text/plain": [
       "array([0, 1], dtype=int64)"
      ]
     },
     "execution_count": 76,
     "metadata": {},
     "output_type": "execute_result"
    }
   ],
   "source": [
    "#checking for unique vales in the alcoholism column\n",
    "No_show_apt_df['Alcoholism'].unique()"
   ]
  },
  {
   "cell_type": "code",
   "execution_count": 77,
   "id": "e23007a4",
   "metadata": {},
   "outputs": [
    {
     "data": {
      "text/plain": [
       "array([0, 1], dtype=int64)"
      ]
     },
     "execution_count": 77,
     "metadata": {},
     "output_type": "execute_result"
    }
   ],
   "source": [
    "#checking for unique vales in the sms_received column\n",
    "No_show_apt_df['SMS_received'].unique()"
   ]
  },
  {
   "cell_type": "code",
   "execution_count": 78,
   "id": "33d4ee15",
   "metadata": {},
   "outputs": [
    {
     "data": {
      "text/plain": [
       "array(['No', 'Yes'], dtype=object)"
      ]
     },
     "execution_count": 78,
     "metadata": {},
     "output_type": "execute_result"
    }
   ],
   "source": [
    "#checking for unique vales in the no-show column\n",
    "No_show_apt_df['No-show'].unique()"
   ]
  },
  {
   "cell_type": "code",
   "execution_count": 79,
   "id": "5b25c1a7",
   "metadata": {},
   "outputs": [
    {
     "data": {
      "text/plain": [
       "PatientId          62299\n",
       "AppointmentID     110527\n",
       "Gender                 2\n",
       "ScheduledDay      103549\n",
       "AppointmentDay        27\n",
       "Age                  104\n",
       "Neighbourhood         81\n",
       "Scholarship            2\n",
       "Hipertension           2\n",
       "Diabetes               2\n",
       "Alcoholism             2\n",
       "Handcap                5\n",
       "SMS_received           2\n",
       "No-show                2\n",
       "dtype: int64"
      ]
     },
     "execution_count": 79,
     "metadata": {},
     "output_type": "execute_result"
    }
   ],
   "source": [
    "#check the number of unique values in each columns\n",
    "\n",
    "No_show_apt_df.nunique()"
   ]
  },
  {
   "cell_type": "code",
   "execution_count": 80,
   "id": "3689d026",
   "metadata": {},
   "outputs": [
    {
     "data": {
      "text/html": [
       "<div>\n",
       "<style scoped>\n",
       "    .dataframe tbody tr th:only-of-type {\n",
       "        vertical-align: middle;\n",
       "    }\n",
       "\n",
       "    .dataframe tbody tr th {\n",
       "        vertical-align: top;\n",
       "    }\n",
       "\n",
       "    .dataframe thead th {\n",
       "        text-align: right;\n",
       "    }\n",
       "</style>\n",
       "<table border=\"1\" class=\"dataframe\">\n",
       "  <thead>\n",
       "    <tr style=\"text-align: right;\">\n",
       "      <th></th>\n",
       "      <th>PatientId</th>\n",
       "      <th>AppointmentID</th>\n",
       "      <th>Gender</th>\n",
       "      <th>ScheduledDay</th>\n",
       "      <th>AppointmentDay</th>\n",
       "      <th>Age</th>\n",
       "      <th>Neighbourhood</th>\n",
       "      <th>Scholarship</th>\n",
       "      <th>Hipertension</th>\n",
       "      <th>Diabetes</th>\n",
       "      <th>Alcoholism</th>\n",
       "      <th>Handcap</th>\n",
       "      <th>SMS_received</th>\n",
       "      <th>No-show</th>\n",
       "    </tr>\n",
       "  </thead>\n",
       "  <tbody>\n",
       "    <tr>\n",
       "      <th>0</th>\n",
       "      <td>2.987250e+13</td>\n",
       "      <td>5642903</td>\n",
       "      <td>F</td>\n",
       "      <td>2016-04-29T18:38:08Z</td>\n",
       "      <td>2016-04-29T00:00:00Z</td>\n",
       "      <td>62</td>\n",
       "      <td>JARDIM DA PENHA</td>\n",
       "      <td>0</td>\n",
       "      <td>1</td>\n",
       "      <td>0</td>\n",
       "      <td>0</td>\n",
       "      <td>0</td>\n",
       "      <td>0</td>\n",
       "      <td>No</td>\n",
       "    </tr>\n",
       "    <tr>\n",
       "      <th>1</th>\n",
       "      <td>5.589978e+14</td>\n",
       "      <td>5642503</td>\n",
       "      <td>M</td>\n",
       "      <td>2016-04-29T16:08:27Z</td>\n",
       "      <td>2016-04-29T00:00:00Z</td>\n",
       "      <td>56</td>\n",
       "      <td>JARDIM DA PENHA</td>\n",
       "      <td>0</td>\n",
       "      <td>0</td>\n",
       "      <td>0</td>\n",
       "      <td>0</td>\n",
       "      <td>0</td>\n",
       "      <td>0</td>\n",
       "      <td>No</td>\n",
       "    </tr>\n",
       "    <tr>\n",
       "      <th>2</th>\n",
       "      <td>4.262962e+12</td>\n",
       "      <td>5642549</td>\n",
       "      <td>F</td>\n",
       "      <td>2016-04-29T16:19:04Z</td>\n",
       "      <td>2016-04-29T00:00:00Z</td>\n",
       "      <td>62</td>\n",
       "      <td>MATA DA PRAIA</td>\n",
       "      <td>0</td>\n",
       "      <td>0</td>\n",
       "      <td>0</td>\n",
       "      <td>0</td>\n",
       "      <td>0</td>\n",
       "      <td>0</td>\n",
       "      <td>No</td>\n",
       "    </tr>\n",
       "    <tr>\n",
       "      <th>3</th>\n",
       "      <td>8.679512e+11</td>\n",
       "      <td>5642828</td>\n",
       "      <td>F</td>\n",
       "      <td>2016-04-29T17:29:31Z</td>\n",
       "      <td>2016-04-29T00:00:00Z</td>\n",
       "      <td>8</td>\n",
       "      <td>PONTAL DE CAMBURI</td>\n",
       "      <td>0</td>\n",
       "      <td>0</td>\n",
       "      <td>0</td>\n",
       "      <td>0</td>\n",
       "      <td>0</td>\n",
       "      <td>0</td>\n",
       "      <td>No</td>\n",
       "    </tr>\n",
       "    <tr>\n",
       "      <th>4</th>\n",
       "      <td>8.841186e+12</td>\n",
       "      <td>5642494</td>\n",
       "      <td>F</td>\n",
       "      <td>2016-04-29T16:07:23Z</td>\n",
       "      <td>2016-04-29T00:00:00Z</td>\n",
       "      <td>56</td>\n",
       "      <td>JARDIM DA PENHA</td>\n",
       "      <td>0</td>\n",
       "      <td>1</td>\n",
       "      <td>1</td>\n",
       "      <td>0</td>\n",
       "      <td>0</td>\n",
       "      <td>0</td>\n",
       "      <td>No</td>\n",
       "    </tr>\n",
       "  </tbody>\n",
       "</table>\n",
       "</div>"
      ],
      "text/plain": [
       "      PatientId  AppointmentID Gender          ScheduledDay  \\\n",
       "0  2.987250e+13        5642903      F  2016-04-29T18:38:08Z   \n",
       "1  5.589978e+14        5642503      M  2016-04-29T16:08:27Z   \n",
       "2  4.262962e+12        5642549      F  2016-04-29T16:19:04Z   \n",
       "3  8.679512e+11        5642828      F  2016-04-29T17:29:31Z   \n",
       "4  8.841186e+12        5642494      F  2016-04-29T16:07:23Z   \n",
       "\n",
       "         AppointmentDay  Age      Neighbourhood  Scholarship  Hipertension  \\\n",
       "0  2016-04-29T00:00:00Z   62    JARDIM DA PENHA            0             1   \n",
       "1  2016-04-29T00:00:00Z   56    JARDIM DA PENHA            0             0   \n",
       "2  2016-04-29T00:00:00Z   62      MATA DA PRAIA            0             0   \n",
       "3  2016-04-29T00:00:00Z    8  PONTAL DE CAMBURI            0             0   \n",
       "4  2016-04-29T00:00:00Z   56    JARDIM DA PENHA            0             1   \n",
       "\n",
       "   Diabetes  Alcoholism  Handcap  SMS_received No-show  \n",
       "0         0           0        0             0      No  \n",
       "1         0           0        0             0      No  \n",
       "2         0           0        0             0      No  \n",
       "3         0           0        0             0      No  \n",
       "4         1           0        0             0      No  "
      ]
     },
     "execution_count": 80,
     "metadata": {},
     "output_type": "execute_result"
    }
   ],
   "source": [
    "No_show_apt_df.head()"
   ]
  },
  {
   "cell_type": "markdown",
   "id": "f236e796",
   "metadata": {},
   "source": [
    "# 3. Data Cleaning and Preparation"
   ]
  },
  {
   "cell_type": "code",
   "execution_count": 81,
   "id": "3dbfe20b",
   "metadata": {},
   "outputs": [],
   "source": [
    "# Rename misspelt columns\n",
    "\n",
    "No_show_apt_df.columns = ['PatientID', 'AppointmentID', 'Gender', 'ScheduledDay',\n",
    "       'AppointmentDay', 'Age', 'Neighbourhood', 'Scholarship', 'Hypertension',\n",
    "       'Diabetes', 'Alcoholism', 'Handicap', 'SMS_received', 'Noshow']"
   ]
  },
  {
   "cell_type": "code",
   "execution_count": 82,
   "id": "2b9a05bc",
   "metadata": {
    "scrolled": true
   },
   "outputs": [
    {
     "data": {
      "text/html": [
       "<div>\n",
       "<style scoped>\n",
       "    .dataframe tbody tr th:only-of-type {\n",
       "        vertical-align: middle;\n",
       "    }\n",
       "\n",
       "    .dataframe tbody tr th {\n",
       "        vertical-align: top;\n",
       "    }\n",
       "\n",
       "    .dataframe thead th {\n",
       "        text-align: right;\n",
       "    }\n",
       "</style>\n",
       "<table border=\"1\" class=\"dataframe\">\n",
       "  <thead>\n",
       "    <tr style=\"text-align: right;\">\n",
       "      <th></th>\n",
       "      <th>PatientID</th>\n",
       "      <th>AppointmentID</th>\n",
       "      <th>Gender</th>\n",
       "      <th>Age</th>\n",
       "      <th>Neighbourhood</th>\n",
       "      <th>Scholarship</th>\n",
       "      <th>Hypertension</th>\n",
       "      <th>Diabetes</th>\n",
       "      <th>Alcoholism</th>\n",
       "      <th>Handicap</th>\n",
       "      <th>SMS_received</th>\n",
       "      <th>Noshow</th>\n",
       "      <th>AppointmentDate</th>\n",
       "      <th>DayofWeek</th>\n",
       "      <th>ScheduledDate</th>\n",
       "    </tr>\n",
       "  </thead>\n",
       "  <tbody>\n",
       "    <tr>\n",
       "      <th>0</th>\n",
       "      <td>2.987250e+13</td>\n",
       "      <td>5642903</td>\n",
       "      <td>F</td>\n",
       "      <td>62</td>\n",
       "      <td>JARDIM DA PENHA</td>\n",
       "      <td>0</td>\n",
       "      <td>1</td>\n",
       "      <td>0</td>\n",
       "      <td>0</td>\n",
       "      <td>0</td>\n",
       "      <td>0</td>\n",
       "      <td>No</td>\n",
       "      <td>2016-04-29</td>\n",
       "      <td>4</td>\n",
       "      <td>2016-04-29</td>\n",
       "    </tr>\n",
       "    <tr>\n",
       "      <th>1</th>\n",
       "      <td>5.589978e+14</td>\n",
       "      <td>5642503</td>\n",
       "      <td>M</td>\n",
       "      <td>56</td>\n",
       "      <td>JARDIM DA PENHA</td>\n",
       "      <td>0</td>\n",
       "      <td>0</td>\n",
       "      <td>0</td>\n",
       "      <td>0</td>\n",
       "      <td>0</td>\n",
       "      <td>0</td>\n",
       "      <td>No</td>\n",
       "      <td>2016-04-29</td>\n",
       "      <td>4</td>\n",
       "      <td>2016-04-29</td>\n",
       "    </tr>\n",
       "    <tr>\n",
       "      <th>2</th>\n",
       "      <td>4.262962e+12</td>\n",
       "      <td>5642549</td>\n",
       "      <td>F</td>\n",
       "      <td>62</td>\n",
       "      <td>MATA DA PRAIA</td>\n",
       "      <td>0</td>\n",
       "      <td>0</td>\n",
       "      <td>0</td>\n",
       "      <td>0</td>\n",
       "      <td>0</td>\n",
       "      <td>0</td>\n",
       "      <td>No</td>\n",
       "      <td>2016-04-29</td>\n",
       "      <td>4</td>\n",
       "      <td>2016-04-29</td>\n",
       "    </tr>\n",
       "    <tr>\n",
       "      <th>3</th>\n",
       "      <td>8.679512e+11</td>\n",
       "      <td>5642828</td>\n",
       "      <td>F</td>\n",
       "      <td>8</td>\n",
       "      <td>PONTAL DE CAMBURI</td>\n",
       "      <td>0</td>\n",
       "      <td>0</td>\n",
       "      <td>0</td>\n",
       "      <td>0</td>\n",
       "      <td>0</td>\n",
       "      <td>0</td>\n",
       "      <td>No</td>\n",
       "      <td>2016-04-29</td>\n",
       "      <td>4</td>\n",
       "      <td>2016-04-29</td>\n",
       "    </tr>\n",
       "    <tr>\n",
       "      <th>4</th>\n",
       "      <td>8.841186e+12</td>\n",
       "      <td>5642494</td>\n",
       "      <td>F</td>\n",
       "      <td>56</td>\n",
       "      <td>JARDIM DA PENHA</td>\n",
       "      <td>0</td>\n",
       "      <td>1</td>\n",
       "      <td>1</td>\n",
       "      <td>0</td>\n",
       "      <td>0</td>\n",
       "      <td>0</td>\n",
       "      <td>No</td>\n",
       "      <td>2016-04-29</td>\n",
       "      <td>4</td>\n",
       "      <td>2016-04-29</td>\n",
       "    </tr>\n",
       "  </tbody>\n",
       "</table>\n",
       "</div>"
      ],
      "text/plain": [
       "      PatientID  AppointmentID Gender  Age      Neighbourhood  Scholarship  \\\n",
       "0  2.987250e+13        5642903      F   62    JARDIM DA PENHA            0   \n",
       "1  5.589978e+14        5642503      M   56    JARDIM DA PENHA            0   \n",
       "2  4.262962e+12        5642549      F   62      MATA DA PRAIA            0   \n",
       "3  8.679512e+11        5642828      F    8  PONTAL DE CAMBURI            0   \n",
       "4  8.841186e+12        5642494      F   56    JARDIM DA PENHA            0   \n",
       "\n",
       "   Hypertension  Diabetes  Alcoholism  Handicap  SMS_received Noshow  \\\n",
       "0             1         0           0         0             0     No   \n",
       "1             0         0           0         0             0     No   \n",
       "2             0         0           0         0             0     No   \n",
       "3             0         0           0         0             0     No   \n",
       "4             1         1           0         0             0     No   \n",
       "\n",
       "  AppointmentDate  DayofWeek ScheduledDate  \n",
       "0      2016-04-29          4    2016-04-29  \n",
       "1      2016-04-29          4    2016-04-29  \n",
       "2      2016-04-29          4    2016-04-29  \n",
       "3      2016-04-29          4    2016-04-29  \n",
       "4      2016-04-29          4    2016-04-29  "
      ]
     },
     "execution_count": 82,
     "metadata": {},
     "output_type": "execute_result"
    }
   ],
   "source": [
    "#Convert AppointmentDay and ScheduledDay from String to DateTime format,\n",
    "#Note that stSince the Appointment times were set to 00:00:00 in all the appointments, our analysis won't include the appointment time.\n",
    "#create 2 columns for: appointment booking date and the appointment date\n",
    "\n",
    "# Appointment Date\n",
    "No_show_apt_df['AppointmentDate'] = pd.to_datetime(No_show_apt_df['AppointmentDay']).dt.date\n",
    "No_show_apt_df['DayofWeek'] = pd.to_datetime(No_show_apt_df['AppointmentDay']).dt.weekday\n",
    "No_show_apt_df.drop('AppointmentDay',axis=1, inplace = True)\n",
    "# Appointment Booking Date\n",
    "No_show_apt_df['ScheduledDate'] = pd.to_datetime(No_show_apt_df['ScheduledDay']).dt.date\n",
    "No_show_apt_df.drop('ScheduledDay',axis=1, inplace = True)\n",
    "No_show_apt_df.head()"
   ]
  },
  {
   "cell_type": "code",
   "execution_count": 83,
   "id": "1ea303d0",
   "metadata": {},
   "outputs": [],
   "source": [
    "# Convert PatientID to integer \n",
    "No_show_apt_df['PatientID'] = (No_show_apt_df['PatientID']).astype('int64')"
   ]
  },
  {
   "cell_type": "code",
   "execution_count": 84,
   "id": "ab83f969",
   "metadata": {},
   "outputs": [],
   "source": [
    "# Create a new column to show the Waiting Duration (in days) between the scheduling date and appointment date \n",
    "No_show_apt_df['WaitingDuration'] = No_show_apt_df.AppointmentDate - No_show_apt_df.ScheduledDate"
   ]
  },
  {
   "cell_type": "code",
   "execution_count": 85,
   "id": "f3ce3f73",
   "metadata": {},
   "outputs": [
    {
     "data": {
      "text/html": [
       "<div>\n",
       "<style scoped>\n",
       "    .dataframe tbody tr th:only-of-type {\n",
       "        vertical-align: middle;\n",
       "    }\n",
       "\n",
       "    .dataframe tbody tr th {\n",
       "        vertical-align: top;\n",
       "    }\n",
       "\n",
       "    .dataframe thead th {\n",
       "        text-align: right;\n",
       "    }\n",
       "</style>\n",
       "<table border=\"1\" class=\"dataframe\">\n",
       "  <thead>\n",
       "    <tr style=\"text-align: right;\">\n",
       "      <th></th>\n",
       "      <th>PatientID</th>\n",
       "      <th>AppointmentID</th>\n",
       "      <th>Gender</th>\n",
       "      <th>Age</th>\n",
       "      <th>Neighbourhood</th>\n",
       "      <th>Scholarship</th>\n",
       "      <th>Hypertension</th>\n",
       "      <th>Diabetes</th>\n",
       "      <th>Alcoholism</th>\n",
       "      <th>Handicap</th>\n",
       "      <th>SMS_received</th>\n",
       "      <th>Noshow</th>\n",
       "      <th>AppointmentDate</th>\n",
       "      <th>DayofWeek</th>\n",
       "      <th>ScheduledDate</th>\n",
       "      <th>WaitingDuration</th>\n",
       "    </tr>\n",
       "  </thead>\n",
       "  <tbody>\n",
       "    <tr>\n",
       "      <th>0</th>\n",
       "      <td>29872499824296</td>\n",
       "      <td>5642903</td>\n",
       "      <td>F</td>\n",
       "      <td>62</td>\n",
       "      <td>JARDIM DA PENHA</td>\n",
       "      <td>0</td>\n",
       "      <td>1</td>\n",
       "      <td>0</td>\n",
       "      <td>0</td>\n",
       "      <td>0</td>\n",
       "      <td>0</td>\n",
       "      <td>No</td>\n",
       "      <td>2016-04-29</td>\n",
       "      <td>4</td>\n",
       "      <td>2016-04-29</td>\n",
       "      <td>0 days</td>\n",
       "    </tr>\n",
       "    <tr>\n",
       "      <th>1</th>\n",
       "      <td>558997776694438</td>\n",
       "      <td>5642503</td>\n",
       "      <td>M</td>\n",
       "      <td>56</td>\n",
       "      <td>JARDIM DA PENHA</td>\n",
       "      <td>0</td>\n",
       "      <td>0</td>\n",
       "      <td>0</td>\n",
       "      <td>0</td>\n",
       "      <td>0</td>\n",
       "      <td>0</td>\n",
       "      <td>No</td>\n",
       "      <td>2016-04-29</td>\n",
       "      <td>4</td>\n",
       "      <td>2016-04-29</td>\n",
       "      <td>0 days</td>\n",
       "    </tr>\n",
       "    <tr>\n",
       "      <th>2</th>\n",
       "      <td>4262962299951</td>\n",
       "      <td>5642549</td>\n",
       "      <td>F</td>\n",
       "      <td>62</td>\n",
       "      <td>MATA DA PRAIA</td>\n",
       "      <td>0</td>\n",
       "      <td>0</td>\n",
       "      <td>0</td>\n",
       "      <td>0</td>\n",
       "      <td>0</td>\n",
       "      <td>0</td>\n",
       "      <td>No</td>\n",
       "      <td>2016-04-29</td>\n",
       "      <td>4</td>\n",
       "      <td>2016-04-29</td>\n",
       "      <td>0 days</td>\n",
       "    </tr>\n",
       "    <tr>\n",
       "      <th>3</th>\n",
       "      <td>867951213174</td>\n",
       "      <td>5642828</td>\n",
       "      <td>F</td>\n",
       "      <td>8</td>\n",
       "      <td>PONTAL DE CAMBURI</td>\n",
       "      <td>0</td>\n",
       "      <td>0</td>\n",
       "      <td>0</td>\n",
       "      <td>0</td>\n",
       "      <td>0</td>\n",
       "      <td>0</td>\n",
       "      <td>No</td>\n",
       "      <td>2016-04-29</td>\n",
       "      <td>4</td>\n",
       "      <td>2016-04-29</td>\n",
       "      <td>0 days</td>\n",
       "    </tr>\n",
       "    <tr>\n",
       "      <th>4</th>\n",
       "      <td>8841186448183</td>\n",
       "      <td>5642494</td>\n",
       "      <td>F</td>\n",
       "      <td>56</td>\n",
       "      <td>JARDIM DA PENHA</td>\n",
       "      <td>0</td>\n",
       "      <td>1</td>\n",
       "      <td>1</td>\n",
       "      <td>0</td>\n",
       "      <td>0</td>\n",
       "      <td>0</td>\n",
       "      <td>No</td>\n",
       "      <td>2016-04-29</td>\n",
       "      <td>4</td>\n",
       "      <td>2016-04-29</td>\n",
       "      <td>0 days</td>\n",
       "    </tr>\n",
       "  </tbody>\n",
       "</table>\n",
       "</div>"
      ],
      "text/plain": [
       "         PatientID  AppointmentID Gender  Age      Neighbourhood  Scholarship  \\\n",
       "0   29872499824296        5642903      F   62    JARDIM DA PENHA            0   \n",
       "1  558997776694438        5642503      M   56    JARDIM DA PENHA            0   \n",
       "2    4262962299951        5642549      F   62      MATA DA PRAIA            0   \n",
       "3     867951213174        5642828      F    8  PONTAL DE CAMBURI            0   \n",
       "4    8841186448183        5642494      F   56    JARDIM DA PENHA            0   \n",
       "\n",
       "   Hypertension  Diabetes  Alcoholism  Handicap  SMS_received Noshow  \\\n",
       "0             1         0           0         0             0     No   \n",
       "1             0         0           0         0             0     No   \n",
       "2             0         0           0         0             0     No   \n",
       "3             0         0           0         0             0     No   \n",
       "4             1         1           0         0             0     No   \n",
       "\n",
       "  AppointmentDate  DayofWeek ScheduledDate WaitingDuration  \n",
       "0      2016-04-29          4    2016-04-29          0 days  \n",
       "1      2016-04-29          4    2016-04-29          0 days  \n",
       "2      2016-04-29          4    2016-04-29          0 days  \n",
       "3      2016-04-29          4    2016-04-29          0 days  \n",
       "4      2016-04-29          4    2016-04-29          0 days  "
      ]
     },
     "execution_count": 85,
     "metadata": {},
     "output_type": "execute_result"
    }
   ],
   "source": [
    "No_show_apt_df.head()"
   ]
  },
  {
   "cell_type": "code",
   "execution_count": 86,
   "id": "40f4ae87",
   "metadata": {},
   "outputs": [
    {
     "data": {
      "text/html": [
       "<div>\n",
       "<style scoped>\n",
       "    .dataframe tbody tr th:only-of-type {\n",
       "        vertical-align: middle;\n",
       "    }\n",
       "\n",
       "    .dataframe tbody tr th {\n",
       "        vertical-align: top;\n",
       "    }\n",
       "\n",
       "    .dataframe thead th {\n",
       "        text-align: right;\n",
       "    }\n",
       "</style>\n",
       "<table border=\"1\" class=\"dataframe\">\n",
       "  <thead>\n",
       "    <tr style=\"text-align: right;\">\n",
       "      <th></th>\n",
       "      <th>PatientID</th>\n",
       "      <th>AppointmentID</th>\n",
       "      <th>Gender</th>\n",
       "      <th>Age</th>\n",
       "      <th>Neighbourhood</th>\n",
       "      <th>Scholarship</th>\n",
       "      <th>Hypertension</th>\n",
       "      <th>Diabetes</th>\n",
       "      <th>Alcoholism</th>\n",
       "      <th>Handicap</th>\n",
       "      <th>SMS_received</th>\n",
       "      <th>Noshow</th>\n",
       "      <th>AppointmentDate</th>\n",
       "      <th>DayofWeek</th>\n",
       "      <th>ScheduledDate</th>\n",
       "      <th>WaitingDuration</th>\n",
       "    </tr>\n",
       "  </thead>\n",
       "  <tbody>\n",
       "    <tr>\n",
       "      <th>27033</th>\n",
       "      <td>7839272661752</td>\n",
       "      <td>5679978</td>\n",
       "      <td>M</td>\n",
       "      <td>38</td>\n",
       "      <td>RESISTÊNCIA</td>\n",
       "      <td>0</td>\n",
       "      <td>0</td>\n",
       "      <td>0</td>\n",
       "      <td>0</td>\n",
       "      <td>1</td>\n",
       "      <td>0</td>\n",
       "      <td>Yes</td>\n",
       "      <td>2016-05-09</td>\n",
       "      <td>0</td>\n",
       "      <td>2016-05-10</td>\n",
       "      <td>-1 days</td>\n",
       "    </tr>\n",
       "    <tr>\n",
       "      <th>55226</th>\n",
       "      <td>7896293967868</td>\n",
       "      <td>5715660</td>\n",
       "      <td>F</td>\n",
       "      <td>19</td>\n",
       "      <td>SANTO ANTÔNIO</td>\n",
       "      <td>0</td>\n",
       "      <td>0</td>\n",
       "      <td>0</td>\n",
       "      <td>0</td>\n",
       "      <td>1</td>\n",
       "      <td>0</td>\n",
       "      <td>Yes</td>\n",
       "      <td>2016-05-17</td>\n",
       "      <td>1</td>\n",
       "      <td>2016-05-18</td>\n",
       "      <td>-1 days</td>\n",
       "    </tr>\n",
       "    <tr>\n",
       "      <th>64175</th>\n",
       "      <td>24252258389979</td>\n",
       "      <td>5664962</td>\n",
       "      <td>F</td>\n",
       "      <td>22</td>\n",
       "      <td>CONSOLAÇÃO</td>\n",
       "      <td>0</td>\n",
       "      <td>0</td>\n",
       "      <td>0</td>\n",
       "      <td>0</td>\n",
       "      <td>0</td>\n",
       "      <td>0</td>\n",
       "      <td>Yes</td>\n",
       "      <td>2016-05-04</td>\n",
       "      <td>2</td>\n",
       "      <td>2016-05-05</td>\n",
       "      <td>-1 days</td>\n",
       "    </tr>\n",
       "    <tr>\n",
       "      <th>71533</th>\n",
       "      <td>998231581612122</td>\n",
       "      <td>5686628</td>\n",
       "      <td>F</td>\n",
       "      <td>81</td>\n",
       "      <td>SANTO ANTÔNIO</td>\n",
       "      <td>0</td>\n",
       "      <td>0</td>\n",
       "      <td>0</td>\n",
       "      <td>0</td>\n",
       "      <td>0</td>\n",
       "      <td>0</td>\n",
       "      <td>Yes</td>\n",
       "      <td>2016-05-05</td>\n",
       "      <td>3</td>\n",
       "      <td>2016-05-11</td>\n",
       "      <td>-6 days</td>\n",
       "    </tr>\n",
       "    <tr>\n",
       "      <th>72362</th>\n",
       "      <td>3787481966821</td>\n",
       "      <td>5655637</td>\n",
       "      <td>M</td>\n",
       "      <td>7</td>\n",
       "      <td>TABUAZEIRO</td>\n",
       "      <td>0</td>\n",
       "      <td>0</td>\n",
       "      <td>0</td>\n",
       "      <td>0</td>\n",
       "      <td>0</td>\n",
       "      <td>0</td>\n",
       "      <td>Yes</td>\n",
       "      <td>2016-05-03</td>\n",
       "      <td>1</td>\n",
       "      <td>2016-05-04</td>\n",
       "      <td>-1 days</td>\n",
       "    </tr>\n",
       "  </tbody>\n",
       "</table>\n",
       "</div>"
      ],
      "text/plain": [
       "             PatientID  AppointmentID Gender  Age  Neighbourhood  Scholarship  \\\n",
       "27033    7839272661752        5679978      M   38    RESISTÊNCIA            0   \n",
       "55226    7896293967868        5715660      F   19  SANTO ANTÔNIO            0   \n",
       "64175   24252258389979        5664962      F   22     CONSOLAÇÃO            0   \n",
       "71533  998231581612122        5686628      F   81  SANTO ANTÔNIO            0   \n",
       "72362    3787481966821        5655637      M    7     TABUAZEIRO            0   \n",
       "\n",
       "       Hypertension  Diabetes  Alcoholism  Handicap  SMS_received Noshow  \\\n",
       "27033             0         0           0         1             0    Yes   \n",
       "55226             0         0           0         1             0    Yes   \n",
       "64175             0         0           0         0             0    Yes   \n",
       "71533             0         0           0         0             0    Yes   \n",
       "72362             0         0           0         0             0    Yes   \n",
       "\n",
       "      AppointmentDate  DayofWeek ScheduledDate WaitingDuration  \n",
       "27033      2016-05-09          0    2016-05-10         -1 days  \n",
       "55226      2016-05-17          1    2016-05-18         -1 days  \n",
       "64175      2016-05-04          2    2016-05-05         -1 days  \n",
       "71533      2016-05-05          3    2016-05-11         -6 days  \n",
       "72362      2016-05-03          1    2016-05-04         -1 days  "
      ]
     },
     "execution_count": 86,
     "metadata": {},
     "output_type": "execute_result"
    }
   ],
   "source": [
    "#check the number of negative waiting periods\n",
    "\n",
    "No_show_apt_df[No_show_apt_df['WaitingDuration'] < '0 days']"
   ]
  },
  {
   "cell_type": "code",
   "execution_count": 87,
   "id": "f6468cf1",
   "metadata": {},
   "outputs": [
    {
     "data": {
      "text/plain": [
       "(110522, 16)"
      ]
     },
     "execution_count": 87,
     "metadata": {},
     "output_type": "execute_result"
    }
   ],
   "source": [
    "# Exclude the 5 records with the negative waiting duration, the new dataset size is should be 5 entries lesser\n",
    "\n",
    "No_show_apt_df = No_show_apt_df[No_show_apt_df['AppointmentDate'] >= No_show_apt_df['ScheduledDate']]\n",
    "No_show_apt_df.shape"
   ]
  },
  {
   "cell_type": "code",
   "execution_count": 88,
   "id": "d0fa77a6",
   "metadata": {},
   "outputs": [
    {
     "data": {
      "text/plain": [
       "(110521, 16)"
      ]
     },
     "execution_count": 88,
     "metadata": {},
     "output_type": "execute_result"
    }
   ],
   "source": [
    "# Exclude the record with the negative Age value, the new dataset should be an entry lesser\n",
    "\n",
    "No_show_apt_df = No_show_apt_df[No_show_apt_df.Age != -1]\n",
    "No_show_apt_df.shape"
   ]
  },
  {
   "cell_type": "code",
   "execution_count": 89,
   "id": "5e419e15",
   "metadata": {},
   "outputs": [
    {
     "data": {
      "text/plain": [
       "Index(['0 - 19', '20 - 39', '40 - 59', '60 - 79', '80 - 99', '100 - 119'], dtype='object')"
      ]
     },
     "execution_count": 89,
     "metadata": {},
     "output_type": "execute_result"
    }
   ],
   "source": [
    "# Define a new column to include the Age Groups\n",
    "\n",
    "AgeGroupLabels = [ \"{0} - {1}\".format(i, i + 19) for i in range(0, 120, 20)]\n",
    "No_show_apt_df['AgeGroup'] = pd.cut(No_show_apt_df.Age, range(0, 121, 20), right=False, labels=AgeGroupLabels)\n",
    "No_show_apt_df['AgeGroup'] = No_show_apt_df.AgeGroup.astype('category')\n",
    "No_show_apt_df.AgeGroup.cat.categories"
   ]
  },
  {
   "cell_type": "code",
   "execution_count": 90,
   "id": "b4d220bb",
   "metadata": {
    "scrolled": true
   },
   "outputs": [
    {
     "data": {
      "text/html": [
       "<div>\n",
       "<style scoped>\n",
       "    .dataframe tbody tr th:only-of-type {\n",
       "        vertical-align: middle;\n",
       "    }\n",
       "\n",
       "    .dataframe tbody tr th {\n",
       "        vertical-align: top;\n",
       "    }\n",
       "\n",
       "    .dataframe thead th {\n",
       "        text-align: right;\n",
       "    }\n",
       "</style>\n",
       "<table border=\"1\" class=\"dataframe\">\n",
       "  <thead>\n",
       "    <tr style=\"text-align: right;\">\n",
       "      <th></th>\n",
       "      <th>PatientID</th>\n",
       "      <th>AppointmentID</th>\n",
       "      <th>Gender</th>\n",
       "      <th>Age</th>\n",
       "      <th>Neighbourhood</th>\n",
       "      <th>Scholarship</th>\n",
       "      <th>Hypertension</th>\n",
       "      <th>Diabetes</th>\n",
       "      <th>Alcoholism</th>\n",
       "      <th>Handicap</th>\n",
       "      <th>SMS_received</th>\n",
       "      <th>Noshow</th>\n",
       "      <th>AppointmentDate</th>\n",
       "      <th>DayofWeek</th>\n",
       "      <th>ScheduledDate</th>\n",
       "      <th>WaitingDuration</th>\n",
       "      <th>AgeGroup</th>\n",
       "    </tr>\n",
       "  </thead>\n",
       "  <tbody>\n",
       "    <tr>\n",
       "      <th>0</th>\n",
       "      <td>29872499824296</td>\n",
       "      <td>5642903</td>\n",
       "      <td>F</td>\n",
       "      <td>62</td>\n",
       "      <td>JARDIM DA PENHA</td>\n",
       "      <td>0</td>\n",
       "      <td>1</td>\n",
       "      <td>0</td>\n",
       "      <td>0</td>\n",
       "      <td>0</td>\n",
       "      <td>0</td>\n",
       "      <td>No</td>\n",
       "      <td>2016-04-29</td>\n",
       "      <td>4</td>\n",
       "      <td>2016-04-29</td>\n",
       "      <td>0</td>\n",
       "      <td>60 - 79</td>\n",
       "    </tr>\n",
       "    <tr>\n",
       "      <th>1</th>\n",
       "      <td>558997776694438</td>\n",
       "      <td>5642503</td>\n",
       "      <td>M</td>\n",
       "      <td>56</td>\n",
       "      <td>JARDIM DA PENHA</td>\n",
       "      <td>0</td>\n",
       "      <td>0</td>\n",
       "      <td>0</td>\n",
       "      <td>0</td>\n",
       "      <td>0</td>\n",
       "      <td>0</td>\n",
       "      <td>No</td>\n",
       "      <td>2016-04-29</td>\n",
       "      <td>4</td>\n",
       "      <td>2016-04-29</td>\n",
       "      <td>0</td>\n",
       "      <td>40 - 59</td>\n",
       "    </tr>\n",
       "    <tr>\n",
       "      <th>2</th>\n",
       "      <td>4262962299951</td>\n",
       "      <td>5642549</td>\n",
       "      <td>F</td>\n",
       "      <td>62</td>\n",
       "      <td>MATA DA PRAIA</td>\n",
       "      <td>0</td>\n",
       "      <td>0</td>\n",
       "      <td>0</td>\n",
       "      <td>0</td>\n",
       "      <td>0</td>\n",
       "      <td>0</td>\n",
       "      <td>No</td>\n",
       "      <td>2016-04-29</td>\n",
       "      <td>4</td>\n",
       "      <td>2016-04-29</td>\n",
       "      <td>0</td>\n",
       "      <td>60 - 79</td>\n",
       "    </tr>\n",
       "    <tr>\n",
       "      <th>3</th>\n",
       "      <td>867951213174</td>\n",
       "      <td>5642828</td>\n",
       "      <td>F</td>\n",
       "      <td>8</td>\n",
       "      <td>PONTAL DE CAMBURI</td>\n",
       "      <td>0</td>\n",
       "      <td>0</td>\n",
       "      <td>0</td>\n",
       "      <td>0</td>\n",
       "      <td>0</td>\n",
       "      <td>0</td>\n",
       "      <td>No</td>\n",
       "      <td>2016-04-29</td>\n",
       "      <td>4</td>\n",
       "      <td>2016-04-29</td>\n",
       "      <td>0</td>\n",
       "      <td>0 - 19</td>\n",
       "    </tr>\n",
       "    <tr>\n",
       "      <th>4</th>\n",
       "      <td>8841186448183</td>\n",
       "      <td>5642494</td>\n",
       "      <td>F</td>\n",
       "      <td>56</td>\n",
       "      <td>JARDIM DA PENHA</td>\n",
       "      <td>0</td>\n",
       "      <td>1</td>\n",
       "      <td>1</td>\n",
       "      <td>0</td>\n",
       "      <td>0</td>\n",
       "      <td>0</td>\n",
       "      <td>No</td>\n",
       "      <td>2016-04-29</td>\n",
       "      <td>4</td>\n",
       "      <td>2016-04-29</td>\n",
       "      <td>0</td>\n",
       "      <td>40 - 59</td>\n",
       "    </tr>\n",
       "  </tbody>\n",
       "</table>\n",
       "</div>"
      ],
      "text/plain": [
       "         PatientID  AppointmentID Gender  Age      Neighbourhood  Scholarship  \\\n",
       "0   29872499824296        5642903      F   62    JARDIM DA PENHA            0   \n",
       "1  558997776694438        5642503      M   56    JARDIM DA PENHA            0   \n",
       "2    4262962299951        5642549      F   62      MATA DA PRAIA            0   \n",
       "3     867951213174        5642828      F    8  PONTAL DE CAMBURI            0   \n",
       "4    8841186448183        5642494      F   56    JARDIM DA PENHA            0   \n",
       "\n",
       "   Hypertension  Diabetes  Alcoholism  Handicap  SMS_received Noshow  \\\n",
       "0             1         0           0         0             0     No   \n",
       "1             0         0           0         0             0     No   \n",
       "2             0         0           0         0             0     No   \n",
       "3             0         0           0         0             0     No   \n",
       "4             1         1           0         0             0     No   \n",
       "\n",
       "  AppointmentDate  DayofWeek ScheduledDate  WaitingDuration AgeGroup  \n",
       "0      2016-04-29          4    2016-04-29                0  60 - 79  \n",
       "1      2016-04-29          4    2016-04-29                0  40 - 59  \n",
       "2      2016-04-29          4    2016-04-29                0  60 - 79  \n",
       "3      2016-04-29          4    2016-04-29                0   0 - 19  \n",
       "4      2016-04-29          4    2016-04-29                0  40 - 59  "
      ]
     },
     "execution_count": 90,
     "metadata": {},
     "output_type": "execute_result"
    }
   ],
   "source": [
    "No_show_apt_df['WaitingDuration'] = (No_show_apt_df.AppointmentDate - No_show_apt_df.ScheduledDate).astype('timedelta64[D]').astype(int)\n",
    "No_show_apt_df.head()"
   ]
  },
  {
   "cell_type": "code",
   "execution_count": 91,
   "id": "9fc24da5",
   "metadata": {},
   "outputs": [
    {
     "name": "stderr",
     "output_type": "stream",
     "text": [
      "C:\\Users\\ASUS\\AppData\\Local\\Temp\\ipykernel_16048\\2011461269.py:4: FutureWarning: The `inplace` parameter in pandas.Categorical.rename_categories is deprecated and will be removed in a future version. Removing unused categories will always return a new Categorical object.\n",
      "  No_show_apt_df.Noshow.cat.rename_categories(['Show','NoShow'], inplace = True);\n"
     ]
    },
    {
     "data": {
      "text/html": [
       "<div>\n",
       "<style scoped>\n",
       "    .dataframe tbody tr th:only-of-type {\n",
       "        vertical-align: middle;\n",
       "    }\n",
       "\n",
       "    .dataframe tbody tr th {\n",
       "        vertical-align: top;\n",
       "    }\n",
       "\n",
       "    .dataframe thead th {\n",
       "        text-align: right;\n",
       "    }\n",
       "</style>\n",
       "<table border=\"1\" class=\"dataframe\">\n",
       "  <thead>\n",
       "    <tr style=\"text-align: right;\">\n",
       "      <th></th>\n",
       "      <th>PatientID</th>\n",
       "      <th>AppointmentID</th>\n",
       "      <th>Gender</th>\n",
       "      <th>Age</th>\n",
       "      <th>Neighbourhood</th>\n",
       "      <th>Scholarship</th>\n",
       "      <th>Hypertension</th>\n",
       "      <th>Diabetes</th>\n",
       "      <th>Alcoholism</th>\n",
       "      <th>Handicap</th>\n",
       "      <th>SMS_received</th>\n",
       "      <th>Noshow</th>\n",
       "      <th>AppointmentDate</th>\n",
       "      <th>DayofWeek</th>\n",
       "      <th>ScheduledDate</th>\n",
       "      <th>WaitingDuration</th>\n",
       "      <th>AgeGroup</th>\n",
       "    </tr>\n",
       "  </thead>\n",
       "  <tbody>\n",
       "    <tr>\n",
       "      <th>0</th>\n",
       "      <td>29872499824296</td>\n",
       "      <td>5642903</td>\n",
       "      <td>F</td>\n",
       "      <td>62</td>\n",
       "      <td>JARDIM DA PENHA</td>\n",
       "      <td>0</td>\n",
       "      <td>1</td>\n",
       "      <td>0</td>\n",
       "      <td>0</td>\n",
       "      <td>0</td>\n",
       "      <td>0</td>\n",
       "      <td>Show</td>\n",
       "      <td>2016-04-29</td>\n",
       "      <td>4</td>\n",
       "      <td>2016-04-29</td>\n",
       "      <td>0</td>\n",
       "      <td>60 - 79</td>\n",
       "    </tr>\n",
       "    <tr>\n",
       "      <th>1</th>\n",
       "      <td>558997776694438</td>\n",
       "      <td>5642503</td>\n",
       "      <td>M</td>\n",
       "      <td>56</td>\n",
       "      <td>JARDIM DA PENHA</td>\n",
       "      <td>0</td>\n",
       "      <td>0</td>\n",
       "      <td>0</td>\n",
       "      <td>0</td>\n",
       "      <td>0</td>\n",
       "      <td>0</td>\n",
       "      <td>Show</td>\n",
       "      <td>2016-04-29</td>\n",
       "      <td>4</td>\n",
       "      <td>2016-04-29</td>\n",
       "      <td>0</td>\n",
       "      <td>40 - 59</td>\n",
       "    </tr>\n",
       "    <tr>\n",
       "      <th>2</th>\n",
       "      <td>4262962299951</td>\n",
       "      <td>5642549</td>\n",
       "      <td>F</td>\n",
       "      <td>62</td>\n",
       "      <td>MATA DA PRAIA</td>\n",
       "      <td>0</td>\n",
       "      <td>0</td>\n",
       "      <td>0</td>\n",
       "      <td>0</td>\n",
       "      <td>0</td>\n",
       "      <td>0</td>\n",
       "      <td>Show</td>\n",
       "      <td>2016-04-29</td>\n",
       "      <td>4</td>\n",
       "      <td>2016-04-29</td>\n",
       "      <td>0</td>\n",
       "      <td>60 - 79</td>\n",
       "    </tr>\n",
       "    <tr>\n",
       "      <th>3</th>\n",
       "      <td>867951213174</td>\n",
       "      <td>5642828</td>\n",
       "      <td>F</td>\n",
       "      <td>8</td>\n",
       "      <td>PONTAL DE CAMBURI</td>\n",
       "      <td>0</td>\n",
       "      <td>0</td>\n",
       "      <td>0</td>\n",
       "      <td>0</td>\n",
       "      <td>0</td>\n",
       "      <td>0</td>\n",
       "      <td>Show</td>\n",
       "      <td>2016-04-29</td>\n",
       "      <td>4</td>\n",
       "      <td>2016-04-29</td>\n",
       "      <td>0</td>\n",
       "      <td>0 - 19</td>\n",
       "    </tr>\n",
       "    <tr>\n",
       "      <th>4</th>\n",
       "      <td>8841186448183</td>\n",
       "      <td>5642494</td>\n",
       "      <td>F</td>\n",
       "      <td>56</td>\n",
       "      <td>JARDIM DA PENHA</td>\n",
       "      <td>0</td>\n",
       "      <td>1</td>\n",
       "      <td>1</td>\n",
       "      <td>0</td>\n",
       "      <td>0</td>\n",
       "      <td>0</td>\n",
       "      <td>Show</td>\n",
       "      <td>2016-04-29</td>\n",
       "      <td>4</td>\n",
       "      <td>2016-04-29</td>\n",
       "      <td>0</td>\n",
       "      <td>40 - 59</td>\n",
       "    </tr>\n",
       "  </tbody>\n",
       "</table>\n",
       "</div>"
      ],
      "text/plain": [
       "         PatientID  AppointmentID Gender  Age      Neighbourhood  Scholarship  \\\n",
       "0   29872499824296        5642903      F   62    JARDIM DA PENHA            0   \n",
       "1  558997776694438        5642503      M   56    JARDIM DA PENHA            0   \n",
       "2    4262962299951        5642549      F   62      MATA DA PRAIA            0   \n",
       "3     867951213174        5642828      F    8  PONTAL DE CAMBURI            0   \n",
       "4    8841186448183        5642494      F   56    JARDIM DA PENHA            0   \n",
       "\n",
       "   Hypertension  Diabetes  Alcoholism  Handicap  SMS_received Noshow  \\\n",
       "0             1         0           0         0             0   Show   \n",
       "1             0         0           0         0             0   Show   \n",
       "2             0         0           0         0             0   Show   \n",
       "3             0         0           0         0             0   Show   \n",
       "4             1         1           0         0             0   Show   \n",
       "\n",
       "  AppointmentDate  DayofWeek ScheduledDate  WaitingDuration AgeGroup  \n",
       "0      2016-04-29          4    2016-04-29                0  60 - 79  \n",
       "1      2016-04-29          4    2016-04-29                0  40 - 59  \n",
       "2      2016-04-29          4    2016-04-29                0  60 - 79  \n",
       "3      2016-04-29          4    2016-04-29                0   0 - 19  \n",
       "4      2016-04-29          4    2016-04-29                0  40 - 59  "
      ]
     },
     "execution_count": 91,
     "metadata": {},
     "output_type": "execute_result"
    }
   ],
   "source": [
    "#for readability and easy comprehension convert the following numerical data to categorical data\n",
    "\n",
    "No_show_apt_df['Noshow'] = No_show_apt_df.Noshow.astype('category')\n",
    "No_show_apt_df.Noshow.cat.rename_categories(['Show','NoShow'], inplace = True);\n",
    "No_show_apt_df.head()"
   ]
  },
  {
   "cell_type": "code",
   "execution_count": 92,
   "id": "7242b6c6",
   "metadata": {},
   "outputs": [
    {
     "name": "stderr",
     "output_type": "stream",
     "text": [
      "C:\\Users\\ASUS\\AppData\\Local\\Temp\\ipykernel_16048\\3481615838.py:3: FutureWarning: The `inplace` parameter in pandas.Categorical.rename_categories is deprecated and will be removed in a future version. Removing unused categories will always return a new Categorical object.\n",
      "  No_show_apt_df.Gender.cat.rename_categories(['Female','Male'], inplace = True)\n",
      "C:\\Users\\ASUS\\AppData\\Local\\Temp\\ipykernel_16048\\3481615838.py:6: FutureWarning: The `inplace` parameter in pandas.Categorical.rename_categories is deprecated and will be removed in a future version. Removing unused categories will always return a new Categorical object.\n",
      "  No_show_apt_df.Scholarship.cat.rename_categories(['No Scholarship','Scholarship'], inplace = True)\n",
      "C:\\Users\\ASUS\\AppData\\Local\\Temp\\ipykernel_16048\\3481615838.py:9: FutureWarning: The `inplace` parameter in pandas.Categorical.rename_categories is deprecated and will be removed in a future version. Removing unused categories will always return a new Categorical object.\n",
      "  No_show_apt_df.Hypertension.cat.rename_categories(['No Hypertension','Hypertension'], inplace = True)\n",
      "C:\\Users\\ASUS\\AppData\\Local\\Temp\\ipykernel_16048\\3481615838.py:12: FutureWarning: The `inplace` parameter in pandas.Categorical.rename_categories is deprecated and will be removed in a future version. Removing unused categories will always return a new Categorical object.\n",
      "  No_show_apt_df.Diabetes.cat.rename_categories(['No Diabetes','Diabetes'], inplace = True);\n",
      "C:\\Users\\ASUS\\AppData\\Local\\Temp\\ipykernel_16048\\3481615838.py:15: FutureWarning: The `inplace` parameter in pandas.Categorical.rename_categories is deprecated and will be removed in a future version. Removing unused categories will always return a new Categorical object.\n",
      "  No_show_apt_df.Alcoholism.cat.rename_categories(['No Alcoholism','Alcoholism'], inplace = True);\n",
      "C:\\Users\\ASUS\\AppData\\Local\\Temp\\ipykernel_16048\\3481615838.py:18: FutureWarning: The `inplace` parameter in pandas.Categorical.rename_categories is deprecated and will be removed in a future version. Removing unused categories will always return a new Categorical object.\n",
      "  No_show_apt_df.Handicap.cat.rename_categories(['No Handicap','Handicap L1','Handicap L2', 'Handicap L3', 'Handicap L4'], inplace = True);\n",
      "C:\\Users\\ASUS\\AppData\\Local\\Temp\\ipykernel_16048\\3481615838.py:21: FutureWarning: The `inplace` parameter in pandas.Categorical.rename_categories is deprecated and will be removed in a future version. Removing unused categories will always return a new Categorical object.\n",
      "  No_show_apt_df.SMS_received.cat.rename_categories(['No SMS_received','SMS_received'], inplace = True);\n"
     ]
    },
    {
     "data": {
      "text/html": [
       "<div>\n",
       "<style scoped>\n",
       "    .dataframe tbody tr th:only-of-type {\n",
       "        vertical-align: middle;\n",
       "    }\n",
       "\n",
       "    .dataframe tbody tr th {\n",
       "        vertical-align: top;\n",
       "    }\n",
       "\n",
       "    .dataframe thead th {\n",
       "        text-align: right;\n",
       "    }\n",
       "</style>\n",
       "<table border=\"1\" class=\"dataframe\">\n",
       "  <thead>\n",
       "    <tr style=\"text-align: right;\">\n",
       "      <th></th>\n",
       "      <th>PatientID</th>\n",
       "      <th>AppointmentID</th>\n",
       "      <th>Gender</th>\n",
       "      <th>Age</th>\n",
       "      <th>Neighbourhood</th>\n",
       "      <th>Scholarship</th>\n",
       "      <th>Hypertension</th>\n",
       "      <th>Diabetes</th>\n",
       "      <th>Alcoholism</th>\n",
       "      <th>Handicap</th>\n",
       "      <th>SMS_received</th>\n",
       "      <th>Noshow</th>\n",
       "      <th>AppointmentDate</th>\n",
       "      <th>DayofWeek</th>\n",
       "      <th>ScheduledDate</th>\n",
       "      <th>WaitingDuration</th>\n",
       "      <th>AgeGroup</th>\n",
       "    </tr>\n",
       "  </thead>\n",
       "  <tbody>\n",
       "    <tr>\n",
       "      <th>0</th>\n",
       "      <td>29872499824296</td>\n",
       "      <td>5642903</td>\n",
       "      <td>Female</td>\n",
       "      <td>62</td>\n",
       "      <td>JARDIM DA PENHA</td>\n",
       "      <td>No Scholarship</td>\n",
       "      <td>Hypertension</td>\n",
       "      <td>No Diabetes</td>\n",
       "      <td>No Alcoholism</td>\n",
       "      <td>No Handicap</td>\n",
       "      <td>No SMS_received</td>\n",
       "      <td>Show</td>\n",
       "      <td>2016-04-29</td>\n",
       "      <td>4</td>\n",
       "      <td>2016-04-29</td>\n",
       "      <td>0</td>\n",
       "      <td>60 - 79</td>\n",
       "    </tr>\n",
       "    <tr>\n",
       "      <th>1</th>\n",
       "      <td>558997776694438</td>\n",
       "      <td>5642503</td>\n",
       "      <td>Male</td>\n",
       "      <td>56</td>\n",
       "      <td>JARDIM DA PENHA</td>\n",
       "      <td>No Scholarship</td>\n",
       "      <td>No Hypertension</td>\n",
       "      <td>No Diabetes</td>\n",
       "      <td>No Alcoholism</td>\n",
       "      <td>No Handicap</td>\n",
       "      <td>No SMS_received</td>\n",
       "      <td>Show</td>\n",
       "      <td>2016-04-29</td>\n",
       "      <td>4</td>\n",
       "      <td>2016-04-29</td>\n",
       "      <td>0</td>\n",
       "      <td>40 - 59</td>\n",
       "    </tr>\n",
       "    <tr>\n",
       "      <th>2</th>\n",
       "      <td>4262962299951</td>\n",
       "      <td>5642549</td>\n",
       "      <td>Female</td>\n",
       "      <td>62</td>\n",
       "      <td>MATA DA PRAIA</td>\n",
       "      <td>No Scholarship</td>\n",
       "      <td>No Hypertension</td>\n",
       "      <td>No Diabetes</td>\n",
       "      <td>No Alcoholism</td>\n",
       "      <td>No Handicap</td>\n",
       "      <td>No SMS_received</td>\n",
       "      <td>Show</td>\n",
       "      <td>2016-04-29</td>\n",
       "      <td>4</td>\n",
       "      <td>2016-04-29</td>\n",
       "      <td>0</td>\n",
       "      <td>60 - 79</td>\n",
       "    </tr>\n",
       "    <tr>\n",
       "      <th>3</th>\n",
       "      <td>867951213174</td>\n",
       "      <td>5642828</td>\n",
       "      <td>Female</td>\n",
       "      <td>8</td>\n",
       "      <td>PONTAL DE CAMBURI</td>\n",
       "      <td>No Scholarship</td>\n",
       "      <td>No Hypertension</td>\n",
       "      <td>No Diabetes</td>\n",
       "      <td>No Alcoholism</td>\n",
       "      <td>No Handicap</td>\n",
       "      <td>No SMS_received</td>\n",
       "      <td>Show</td>\n",
       "      <td>2016-04-29</td>\n",
       "      <td>4</td>\n",
       "      <td>2016-04-29</td>\n",
       "      <td>0</td>\n",
       "      <td>0 - 19</td>\n",
       "    </tr>\n",
       "    <tr>\n",
       "      <th>4</th>\n",
       "      <td>8841186448183</td>\n",
       "      <td>5642494</td>\n",
       "      <td>Female</td>\n",
       "      <td>56</td>\n",
       "      <td>JARDIM DA PENHA</td>\n",
       "      <td>No Scholarship</td>\n",
       "      <td>Hypertension</td>\n",
       "      <td>Diabetes</td>\n",
       "      <td>No Alcoholism</td>\n",
       "      <td>No Handicap</td>\n",
       "      <td>No SMS_received</td>\n",
       "      <td>Show</td>\n",
       "      <td>2016-04-29</td>\n",
       "      <td>4</td>\n",
       "      <td>2016-04-29</td>\n",
       "      <td>0</td>\n",
       "      <td>40 - 59</td>\n",
       "    </tr>\n",
       "  </tbody>\n",
       "</table>\n",
       "</div>"
      ],
      "text/plain": [
       "         PatientID  AppointmentID  Gender  Age      Neighbourhood  \\\n",
       "0   29872499824296        5642903  Female   62    JARDIM DA PENHA   \n",
       "1  558997776694438        5642503    Male   56    JARDIM DA PENHA   \n",
       "2    4262962299951        5642549  Female   62      MATA DA PRAIA   \n",
       "3     867951213174        5642828  Female    8  PONTAL DE CAMBURI   \n",
       "4    8841186448183        5642494  Female   56    JARDIM DA PENHA   \n",
       "\n",
       "      Scholarship     Hypertension     Diabetes     Alcoholism     Handicap  \\\n",
       "0  No Scholarship     Hypertension  No Diabetes  No Alcoholism  No Handicap   \n",
       "1  No Scholarship  No Hypertension  No Diabetes  No Alcoholism  No Handicap   \n",
       "2  No Scholarship  No Hypertension  No Diabetes  No Alcoholism  No Handicap   \n",
       "3  No Scholarship  No Hypertension  No Diabetes  No Alcoholism  No Handicap   \n",
       "4  No Scholarship     Hypertension     Diabetes  No Alcoholism  No Handicap   \n",
       "\n",
       "      SMS_received Noshow AppointmentDate  DayofWeek ScheduledDate  \\\n",
       "0  No SMS_received   Show      2016-04-29          4    2016-04-29   \n",
       "1  No SMS_received   Show      2016-04-29          4    2016-04-29   \n",
       "2  No SMS_received   Show      2016-04-29          4    2016-04-29   \n",
       "3  No SMS_received   Show      2016-04-29          4    2016-04-29   \n",
       "4  No SMS_received   Show      2016-04-29          4    2016-04-29   \n",
       "\n",
       "   WaitingDuration AgeGroup  \n",
       "0                0  60 - 79  \n",
       "1                0  40 - 59  \n",
       "2                0  60 - 79  \n",
       "3                0   0 - 19  \n",
       "4                0  40 - 59  "
      ]
     },
     "execution_count": 92,
     "metadata": {},
     "output_type": "execute_result"
    }
   ],
   "source": [
    "#for readability and easy comprehension convert the following numerical data to categorical data\n",
    "No_show_apt_df['Gender'] = No_show_apt_df.Gender.astype('category')\n",
    "No_show_apt_df.Gender.cat.rename_categories(['Female','Male'], inplace = True)\n",
    "\n",
    "No_show_apt_df['Scholarship'] = No_show_apt_df.Scholarship.astype('category')\n",
    "No_show_apt_df.Scholarship.cat.rename_categories(['No Scholarship','Scholarship'], inplace = True)\n",
    "\n",
    "No_show_apt_df['Hypertension'] = No_show_apt_df.Hypertension.astype('category')\n",
    "No_show_apt_df.Hypertension.cat.rename_categories(['No Hypertension','Hypertension'], inplace = True)\n",
    "\n",
    "No_show_apt_df['Diabetes'] = No_show_apt_df.Diabetes.astype('category')\n",
    "No_show_apt_df.Diabetes.cat.rename_categories(['No Diabetes','Diabetes'], inplace = True);\n",
    "\n",
    "No_show_apt_df['Alcoholism'] = No_show_apt_df.Alcoholism.astype('category')\n",
    "No_show_apt_df.Alcoholism.cat.rename_categories(['No Alcoholism','Alcoholism'], inplace = True);\n",
    "\n",
    "No_show_apt_df['Handicap'] = No_show_apt_df.Handicap.astype('category')\n",
    "No_show_apt_df.Handicap.cat.rename_categories(['No Handicap','Handicap L1','Handicap L2', 'Handicap L3', 'Handicap L4'], inplace = True);\n",
    "\n",
    "No_show_apt_df['SMS_received'] = No_show_apt_df.SMS_received.astype('category')\n",
    "No_show_apt_df.SMS_received.cat.rename_categories(['No SMS_received','SMS_received'], inplace = True);\n",
    "No_show_apt_df.head()"
   ]
  },
  {
   "cell_type": "markdown",
   "id": "3aed22c5",
   "metadata": {},
   "source": [
    "# 4. Exploratory Data Analysis"
   ]
  },
  {
   "cell_type": "markdown",
   "id": "02d71cf3",
   "metadata": {},
   "source": [
    "As earlier stated in the introduction, these are the questions I would like to answer.\n",
    "\n",
    "#### Asking Questions based on the parameters in the data. On exploring my data, these are the questions I'd like to answer:\n",
    "1. The percentage of shows to no-shows.\n",
    "2. The rate of showing up for medical appointments based on age.\n",
    "3. What gender has a better performance in showing up for their medical appointments."
   ]
  },
  {
   "cell_type": "code",
   "execution_count": 93,
   "id": "54d7f1d9",
   "metadata": {
    "scrolled": true
   },
   "outputs": [
    {
     "data": {
      "text/html": [
       "<div>\n",
       "<style scoped>\n",
       "    .dataframe tbody tr th:only-of-type {\n",
       "        vertical-align: middle;\n",
       "    }\n",
       "\n",
       "    .dataframe tbody tr th {\n",
       "        vertical-align: top;\n",
       "    }\n",
       "\n",
       "    .dataframe thead th {\n",
       "        text-align: right;\n",
       "    }\n",
       "</style>\n",
       "<table border=\"1\" class=\"dataframe\">\n",
       "  <thead>\n",
       "    <tr style=\"text-align: right;\">\n",
       "      <th></th>\n",
       "      <th>PatientID</th>\n",
       "      <th>AppointmentID</th>\n",
       "      <th>Gender</th>\n",
       "      <th>Age</th>\n",
       "      <th>Neighbourhood</th>\n",
       "      <th>Scholarship</th>\n",
       "      <th>Hypertension</th>\n",
       "      <th>Diabetes</th>\n",
       "      <th>Alcoholism</th>\n",
       "      <th>Handicap</th>\n",
       "      <th>SMS_received</th>\n",
       "      <th>Noshow</th>\n",
       "      <th>AppointmentDate</th>\n",
       "      <th>DayofWeek</th>\n",
       "      <th>ScheduledDate</th>\n",
       "      <th>WaitingDuration</th>\n",
       "      <th>AgeGroup</th>\n",
       "    </tr>\n",
       "  </thead>\n",
       "  <tbody>\n",
       "    <tr>\n",
       "      <th>0</th>\n",
       "      <td>29872499824296</td>\n",
       "      <td>5642903</td>\n",
       "      <td>Female</td>\n",
       "      <td>62</td>\n",
       "      <td>JARDIM DA PENHA</td>\n",
       "      <td>No Scholarship</td>\n",
       "      <td>Hypertension</td>\n",
       "      <td>No Diabetes</td>\n",
       "      <td>No Alcoholism</td>\n",
       "      <td>No Handicap</td>\n",
       "      <td>No SMS_received</td>\n",
       "      <td>Show</td>\n",
       "      <td>2016-04-29</td>\n",
       "      <td>4</td>\n",
       "      <td>2016-04-29</td>\n",
       "      <td>0</td>\n",
       "      <td>60 - 79</td>\n",
       "    </tr>\n",
       "    <tr>\n",
       "      <th>1</th>\n",
       "      <td>558997776694438</td>\n",
       "      <td>5642503</td>\n",
       "      <td>Male</td>\n",
       "      <td>56</td>\n",
       "      <td>JARDIM DA PENHA</td>\n",
       "      <td>No Scholarship</td>\n",
       "      <td>No Hypertension</td>\n",
       "      <td>No Diabetes</td>\n",
       "      <td>No Alcoholism</td>\n",
       "      <td>No Handicap</td>\n",
       "      <td>No SMS_received</td>\n",
       "      <td>Show</td>\n",
       "      <td>2016-04-29</td>\n",
       "      <td>4</td>\n",
       "      <td>2016-04-29</td>\n",
       "      <td>0</td>\n",
       "      <td>40 - 59</td>\n",
       "    </tr>\n",
       "    <tr>\n",
       "      <th>2</th>\n",
       "      <td>4262962299951</td>\n",
       "      <td>5642549</td>\n",
       "      <td>Female</td>\n",
       "      <td>62</td>\n",
       "      <td>MATA DA PRAIA</td>\n",
       "      <td>No Scholarship</td>\n",
       "      <td>No Hypertension</td>\n",
       "      <td>No Diabetes</td>\n",
       "      <td>No Alcoholism</td>\n",
       "      <td>No Handicap</td>\n",
       "      <td>No SMS_received</td>\n",
       "      <td>Show</td>\n",
       "      <td>2016-04-29</td>\n",
       "      <td>4</td>\n",
       "      <td>2016-04-29</td>\n",
       "      <td>0</td>\n",
       "      <td>60 - 79</td>\n",
       "    </tr>\n",
       "    <tr>\n",
       "      <th>3</th>\n",
       "      <td>867951213174</td>\n",
       "      <td>5642828</td>\n",
       "      <td>Female</td>\n",
       "      <td>8</td>\n",
       "      <td>PONTAL DE CAMBURI</td>\n",
       "      <td>No Scholarship</td>\n",
       "      <td>No Hypertension</td>\n",
       "      <td>No Diabetes</td>\n",
       "      <td>No Alcoholism</td>\n",
       "      <td>No Handicap</td>\n",
       "      <td>No SMS_received</td>\n",
       "      <td>Show</td>\n",
       "      <td>2016-04-29</td>\n",
       "      <td>4</td>\n",
       "      <td>2016-04-29</td>\n",
       "      <td>0</td>\n",
       "      <td>0 - 19</td>\n",
       "    </tr>\n",
       "    <tr>\n",
       "      <th>4</th>\n",
       "      <td>8841186448183</td>\n",
       "      <td>5642494</td>\n",
       "      <td>Female</td>\n",
       "      <td>56</td>\n",
       "      <td>JARDIM DA PENHA</td>\n",
       "      <td>No Scholarship</td>\n",
       "      <td>Hypertension</td>\n",
       "      <td>Diabetes</td>\n",
       "      <td>No Alcoholism</td>\n",
       "      <td>No Handicap</td>\n",
       "      <td>No SMS_received</td>\n",
       "      <td>Show</td>\n",
       "      <td>2016-04-29</td>\n",
       "      <td>4</td>\n",
       "      <td>2016-04-29</td>\n",
       "      <td>0</td>\n",
       "      <td>40 - 59</td>\n",
       "    </tr>\n",
       "  </tbody>\n",
       "</table>\n",
       "</div>"
      ],
      "text/plain": [
       "         PatientID  AppointmentID  Gender  Age      Neighbourhood  \\\n",
       "0   29872499824296        5642903  Female   62    JARDIM DA PENHA   \n",
       "1  558997776694438        5642503    Male   56    JARDIM DA PENHA   \n",
       "2    4262962299951        5642549  Female   62      MATA DA PRAIA   \n",
       "3     867951213174        5642828  Female    8  PONTAL DE CAMBURI   \n",
       "4    8841186448183        5642494  Female   56    JARDIM DA PENHA   \n",
       "\n",
       "      Scholarship     Hypertension     Diabetes     Alcoholism     Handicap  \\\n",
       "0  No Scholarship     Hypertension  No Diabetes  No Alcoholism  No Handicap   \n",
       "1  No Scholarship  No Hypertension  No Diabetes  No Alcoholism  No Handicap   \n",
       "2  No Scholarship  No Hypertension  No Diabetes  No Alcoholism  No Handicap   \n",
       "3  No Scholarship  No Hypertension  No Diabetes  No Alcoholism  No Handicap   \n",
       "4  No Scholarship     Hypertension     Diabetes  No Alcoholism  No Handicap   \n",
       "\n",
       "      SMS_received Noshow AppointmentDate  DayofWeek ScheduledDate  \\\n",
       "0  No SMS_received   Show      2016-04-29          4    2016-04-29   \n",
       "1  No SMS_received   Show      2016-04-29          4    2016-04-29   \n",
       "2  No SMS_received   Show      2016-04-29          4    2016-04-29   \n",
       "3  No SMS_received   Show      2016-04-29          4    2016-04-29   \n",
       "4  No SMS_received   Show      2016-04-29          4    2016-04-29   \n",
       "\n",
       "   WaitingDuration AgeGroup  \n",
       "0                0  60 - 79  \n",
       "1                0  40 - 59  \n",
       "2                0  60 - 79  \n",
       "3                0   0 - 19  \n",
       "4                0  40 - 59  "
      ]
     },
     "execution_count": 93,
     "metadata": {},
     "output_type": "execute_result"
    }
   ],
   "source": [
    "#looking to recofirm the most current state of my dataset\n",
    "\n",
    "No_show_apt_df.head()"
   ]
  },
  {
   "cell_type": "code",
   "execution_count": 94,
   "id": "f9cb9042",
   "metadata": {},
   "outputs": [],
   "source": [
    "#creating a function for bar plots\n",
    "\n",
    "def bar_plot_func(No_show_apt_df, bygroup):\n",
    "    No_show_apt_df_by_Group = pd.crosstab(No_show_apt_df[bygroup], No_show_apt_df.Noshow, normalize = 'index')\n",
    "    No_show_apt_df_by_Group = np.round((No_show_apt_df_by_Group * 100), decimals=2)\n",
    "    ax = No_show_apt_df_by_Group.plot.bar(figsize=(8,5));\n",
    "    vals = ax.get_yticks()\n",
    "    ax.set_yticklabels(['{:3.0f}%'.format(x) for x in vals]);\n",
    "    ax.set_xticklabels(No_show_apt_df_by_Group.index,rotation = 0, fontsize = 12);\n",
    "    ax.set_title('\\nShowUp vs. No ShowUp (%) (by ' + No_show_apt_df_by_Group.index.name + ')\\n', fontsize = 12)\n",
    "    ax.set_xlabel(No_show_apt_df_by_Group.index.name, fontsize = 10)\n",
    "    ax.set_ylabel('(%)', fontsize = 12)\n",
    "    ax.legend(loc = 'upper left',bbox_to_anchor=(1.0,1.0), fontsize= 10)\n",
    "    rects = ax.patches\n",
    "\n",
    "    # Add Data Labels\n",
    "\n",
    "    for rect in rects:\n",
    "        height = rect.get_height()\n",
    "        ax.text(rect.get_x() + rect.get_width()/2, \n",
    "                height + 2, \n",
    "                str(height)+'%', \n",
    "                ha='center', \n",
    "                va='bottom',\n",
    "                fontsize = 12)\n",
    "    return No_show_apt_df_by_Group"
   ]
  },
  {
   "cell_type": "code",
   "execution_count": 95,
   "id": "52cf5550",
   "metadata": {},
   "outputs": [],
   "source": [
    "#Creating a funtion to plot the proportions based on one variable by number of appointments\n",
    "#pie_chart\n",
    "\n",
    "def proportions_var(No_show_apt_df, variable):\n",
    "    No_show_apt_df_pie = No_show_apt_df[variable].value_counts()\n",
    "    ax = No_show_apt_df_pie.plot.pie(figsize=(8,8), autopct='%1.2f%%', fontsize = 12);\n",
    "    ax.set_title(variable + ' (%) (Per appointment)\\n', fontsize = 12);\n",
    "    return np.round(No_show_apt_df_pie/No_show_apt_df.shape[0]*100,2)"
   ]
  },
  {
   "cell_type": "code",
   "execution_count": 96,
   "id": "d1a8a4ea",
   "metadata": {},
   "outputs": [],
   "source": [
    "# Creating a funtion to plot the group proportions based on number of patients\n",
    "#pie_chart\n",
    "\n",
    "def patient_count(No_show_apt_df, variable):\n",
    "    PatID_Count = pd.pivot_table(No_show_apt_df, index=variable, values='PatientID',aggfunc = lambda x: len(x.unique()))\n",
    "    ax = PatID_Count.plot.pie(figsize=(8,8), autopct='%1.2f%%', subplots=True, fontsize = 10, legend = False);\n",
    "    plt.title(variable + ' (%) (Per patient)\\n', fontsize = 12);\n",
    "    return np.round(PatID_Count/sum(PatID_Count['PatientID'])*100,2)"
   ]
  },
  {
   "cell_type": "code",
   "execution_count": 97,
   "id": "8786eac4",
   "metadata": {},
   "outputs": [],
   "source": [
    "# Create a function to plot the noshow-up % for two variables (e.g gender and age)\n",
    "\n",
    "def proportions_2Vars(No_show_apt_df,var1, var2):\n",
    "    Freq_df = pd.crosstab(No_show_apt_df[var1], columns = No_show_apt_df[var2], normalize = 'index')\n",
    "    Freq_df = np.round(Freq_df * 100,2)\n",
    "    ax = Freq_df.plot.barh(stacked = True,figsize=(10,5));\n",
    "    ax.set_title('\\nNo ShowUp (%) (by ' + str(var1) + ' & '+ str(var2) + ')\\n', fontsize = 12);\n",
    "    ax.set_ylabel(Freq_df.index.name, fontsize = 12)\n",
    "    ax.set_xlabel('(%)', fontsize = 12)\n",
    "    vals = ax.get_xticks()\n",
    "    ax.set_xticklabels(['{:3.0f}%'.format(x) for x in vals])\n",
    "    ax.tick_params(axis='both', which='major', labelsize=12)\n",
    "    ax.legend(loc = 'upper left',bbox_to_anchor=(1.0,1.0), fontsize= 12)\n",
    "    return Freq_df"
   ]
  },
  {
   "cell_type": "markdown",
   "id": "3e068b55",
   "metadata": {},
   "source": [
    "# Question 1.\n",
    "Determining the rate of shows to no-shows"
   ]
  },
  {
   "cell_type": "code",
   "execution_count": 98,
   "id": "e3c3d45d",
   "metadata": {},
   "outputs": [],
   "source": [
    "#plot the % of show and noshow\n",
    "\n",
    "NoShow_df = No_show_apt_df[No_show_apt_df['Noshow'] == 'NoShow']"
   ]
  },
  {
   "cell_type": "code",
   "execution_count": 99,
   "id": "a4201198",
   "metadata": {},
   "outputs": [
    {
     "data": {
      "text/plain": [
       "Show      79.81\n",
       "NoShow    20.19\n",
       "Name: Noshow, dtype: float64"
      ]
     },
     "execution_count": 99,
     "metadata": {},
     "output_type": "execute_result"
    },
    {
     "data": {
      "image/png": "[encoded data removed]",
      "text/plain": [
       "<Figure size 576x576 with 1 Axes>"
      ]
     },
     "metadata": {},
     "output_type": "display_data"
    }
   ],
   "source": [
    "proportions_var(No_show_apt_df, 'Noshow')"
   ]
  },
  {
   "cell_type": "markdown",
   "id": "a9e04e87",
   "metadata": {},
   "source": [
    "From the piechart above, we see that 79.81% showed up for their appointment while the remaining 20.19% did not."
   ]
  },
  {
   "cell_type": "markdown",
   "id": "b46c81af",
   "metadata": {},
   "source": [
    "# Question 2.\n",
    "Proportion of male and female in our dataset"
   ]
  },
  {
   "cell_type": "code",
   "execution_count": 100,
   "id": "1605d4fe",
   "metadata": {
    "scrolled": false
   },
   "outputs": [
    {
     "data": {
      "text/plain": [
       "Female    65.0\n",
       "Male      35.0\n",
       "Name: Gender, dtype: float64"
      ]
     },
     "execution_count": 100,
     "metadata": {},
     "output_type": "execute_result"
    },
    {
     "data": {
      "image/png": "[encoded data removed]",
      "text/plain": [
       "<Figure size 576x576 with 1 Axes>"
      ]
     },
     "metadata": {},
     "output_type": "display_data"
    }
   ],
   "source": [
    "#plot the % distribution of gender based on number of appointment\n",
    "\n",
    "proportions_var(No_show_apt_df, 'Gender')"
   ]
  },
  {
   "cell_type": "markdown",
   "id": "9bee030b",
   "metadata": {},
   "source": [
    "From the result displayed in the piechart above, females made a total of 65% of the tal patients while the remaining 35% were male."
   ]
  },
  {
   "cell_type": "markdown",
   "id": "c879bdca",
   "metadata": {},
   "source": [
    "## Question 2.2\n",
    "The ratio of male and female that showed up and those that did not."
   ]
  },
  {
   "cell_type": "code",
   "execution_count": 101,
   "id": "da933eb5",
   "metadata": {
    "scrolled": true
   },
   "outputs": [
    {
     "data": {
      "text/html": [
       "<div>\n",
       "<style scoped>\n",
       "    .dataframe tbody tr th:only-of-type {\n",
       "        vertical-align: middle;\n",
       "    }\n",
       "\n",
       "    .dataframe tbody tr th {\n",
       "        vertical-align: top;\n",
       "    }\n",
       "\n",
       "    .dataframe thead th {\n",
       "        text-align: right;\n",
       "    }\n",
       "</style>\n",
       "<table border=\"1\" class=\"dataframe\">\n",
       "  <thead>\n",
       "    <tr style=\"text-align: right;\">\n",
       "      <th></th>\n",
       "      <th>PatientID</th>\n",
       "    </tr>\n",
       "    <tr>\n",
       "      <th>Gender</th>\n",
       "      <th></th>\n",
       "    </tr>\n",
       "  </thead>\n",
       "  <tbody>\n",
       "    <tr>\n",
       "      <th>Female</th>\n",
       "      <td>64.28</td>\n",
       "    </tr>\n",
       "    <tr>\n",
       "      <th>Male</th>\n",
       "      <td>35.72</td>\n",
       "    </tr>\n",
       "  </tbody>\n",
       "</table>\n",
       "</div>"
      ],
      "text/plain": [
       "        PatientID\n",
       "Gender           \n",
       "Female      64.28\n",
       "Male        35.72"
      ]
     },
     "execution_count": 101,
     "metadata": {},
     "output_type": "execute_result"
    },
    {
     "data": {
      "image/png": "[encoded data removed]",
      "text/plain": [
       "<Figure size 576x576 with 1 Axes>"
      ]
     },
     "metadata": {},
     "output_type": "display_data"
    }
   ],
   "source": [
    "#plot the % distribution based on number of patients\n",
    "\n",
    "patient_count(No_show_apt_df, 'Gender')"
   ]
  },
  {
   "cell_type": "code",
   "execution_count": 102,
   "id": "057c0d9f",
   "metadata": {
    "scrolled": false
   },
   "outputs": [
    {
     "name": "stderr",
     "output_type": "stream",
     "text": [
      "C:\\Users\\ASUS\\AppData\\Local\\Temp\\ipykernel_16048\\614670231.py:8: UserWarning: FixedFormatter should only be used together with FixedLocator\n",
      "  ax.set_yticklabels(['{:3.0f}%'.format(x) for x in vals]);\n"
     ]
    },
    {
     "data": {
      "text/html": [
       "<div>\n",
       "<style scoped>\n",
       "    .dataframe tbody tr th:only-of-type {\n",
       "        vertical-align: middle;\n",
       "    }\n",
       "\n",
       "    .dataframe tbody tr th {\n",
       "        vertical-align: top;\n",
       "    }\n",
       "\n",
       "    .dataframe thead th {\n",
       "        text-align: right;\n",
       "    }\n",
       "</style>\n",
       "<table border=\"1\" class=\"dataframe\">\n",
       "  <thead>\n",
       "    <tr style=\"text-align: right;\">\n",
       "      <th>Noshow</th>\n",
       "      <th>Show</th>\n",
       "      <th>NoShow</th>\n",
       "    </tr>\n",
       "    <tr>\n",
       "      <th>Gender</th>\n",
       "      <th></th>\n",
       "      <th></th>\n",
       "    </tr>\n",
       "  </thead>\n",
       "  <tbody>\n",
       "    <tr>\n",
       "      <th>Female</th>\n",
       "      <td>79.69</td>\n",
       "      <td>20.31</td>\n",
       "    </tr>\n",
       "    <tr>\n",
       "      <th>Male</th>\n",
       "      <td>80.04</td>\n",
       "      <td>19.96</td>\n",
       "    </tr>\n",
       "  </tbody>\n",
       "</table>\n",
       "</div>"
      ],
      "text/plain": [
       "Noshow   Show  NoShow\n",
       "Gender               \n",
       "Female  79.69   20.31\n",
       "Male    80.04   19.96"
      ]
     },
     "execution_count": 102,
     "metadata": {},
     "output_type": "execute_result"
    },
    {
     "data": {
      "image/png": "[encoded data removed]",
      "text/plain": [
       "<Figure size 576x360 with 1 Axes>"
      ]
     },
     "metadata": {
      "needs_background": "light"
     },
     "output_type": "display_data"
    }
   ],
   "source": [
    "#plot the % of show and noshow based on gender\n",
    "\n",
    "bar_plot_func(No_show_apt_df, 'Gender')"
   ]
  },
  {
   "cell_type": "markdown",
   "id": "7de8729d",
   "metadata": {},
   "source": [
    "In all the 65% of female patients, 79.69% of them showed up for their appointment while 20.31% did not.\n",
    "From the 35% of male patients, 80.04% of them showed up while 19.69% did not show up for their appointment."
   ]
  },
  {
   "cell_type": "markdown",
   "id": "197fb716",
   "metadata": {},
   "source": [
    "# Question 3\n",
    "The rate of shows and noshows by age."
   ]
  },
  {
   "cell_type": "code",
   "execution_count": 103,
   "id": "e19ea1a9",
   "metadata": {
    "scrolled": false
   },
   "outputs": [
    {
     "data": {
      "text/plain": [
       "0 - 19       27.51\n",
       "40 - 59      27.21\n",
       "20 - 39      26.12\n",
       "60 - 79      16.11\n",
       "80 - 99       3.03\n",
       "100 - 119     0.01\n",
       "Name: AgeGroup, dtype: float64"
      ]
     },
     "execution_count": 103,
     "metadata": {},
     "output_type": "execute_result"
    },
    {
     "data": {
      "image/png": "[encoded data removed]",
      "text/plain": [
       "<Figure size 576x576 with 1 Axes>"
      ]
     },
     "metadata": {},
     "output_type": "display_data"
    }
   ],
   "source": [
    "#plot the % of appointment per the age group\n",
    "\n",
    "proportions_var(No_show_apt_df, 'AgeGroup')"
   ]
  },
  {
   "cell_type": "markdown",
   "id": "7e520035",
   "metadata": {},
   "source": [
    "The age group 0-19 had  the most appointment and the age group 100-119 had the least."
   ]
  },
  {
   "cell_type": "code",
   "execution_count": 104,
   "id": "65e2424b",
   "metadata": {
    "scrolled": false
   },
   "outputs": [
    {
     "data": {
      "text/html": [
       "<div>\n",
       "<style scoped>\n",
       "    .dataframe tbody tr th:only-of-type {\n",
       "        vertical-align: middle;\n",
       "    }\n",
       "\n",
       "    .dataframe tbody tr th {\n",
       "        vertical-align: top;\n",
       "    }\n",
       "\n",
       "    .dataframe thead th {\n",
       "        text-align: right;\n",
       "    }\n",
       "</style>\n",
       "<table border=\"1\" class=\"dataframe\">\n",
       "  <thead>\n",
       "    <tr style=\"text-align: right;\">\n",
       "      <th></th>\n",
       "      <th>PatientID</th>\n",
       "    </tr>\n",
       "    <tr>\n",
       "      <th>AgeGroup</th>\n",
       "      <th></th>\n",
       "    </tr>\n",
       "  </thead>\n",
       "  <tbody>\n",
       "    <tr>\n",
       "      <th>0 - 19</th>\n",
       "      <td>28.89</td>\n",
       "    </tr>\n",
       "    <tr>\n",
       "      <th>20 - 39</th>\n",
       "      <td>25.30</td>\n",
       "    </tr>\n",
       "    <tr>\n",
       "      <th>40 - 59</th>\n",
       "      <td>26.25</td>\n",
       "    </tr>\n",
       "    <tr>\n",
       "      <th>60 - 79</th>\n",
       "      <td>16.40</td>\n",
       "    </tr>\n",
       "    <tr>\n",
       "      <th>80 - 99</th>\n",
       "      <td>3.16</td>\n",
       "    </tr>\n",
       "    <tr>\n",
       "      <th>100 - 119</th>\n",
       "      <td>0.01</td>\n",
       "    </tr>\n",
       "  </tbody>\n",
       "</table>\n",
       "</div>"
      ],
      "text/plain": [
       "           PatientID\n",
       "AgeGroup            \n",
       "0 - 19         28.89\n",
       "20 - 39        25.30\n",
       "40 - 59        26.25\n",
       "60 - 79        16.40\n",
       "80 - 99         3.16\n",
       "100 - 119       0.01"
      ]
     },
     "execution_count": 104,
     "metadata": {},
     "output_type": "execute_result"
    },
    {
     "data": {
      "image/png": "[encoded data removed]",
      "text/plain": [
       "<Figure size 576x576 with 1 Axes>"
      ]
     },
     "metadata": {},
     "output_type": "display_data"
    }
   ],
   "source": [
    "#plot the % of patient count per age group\n",
    "\n",
    "patient_count(No_show_apt_df, 'AgeGroup')"
   ]
  },
  {
   "cell_type": "markdown",
   "id": "d20d0c23",
   "metadata": {},
   "source": [
    "The age group 0-19 also had the highest number of patients while the age group 100-119 had the least number of patients."
   ]
  },
  {
   "cell_type": "code",
   "execution_count": 105,
   "id": "95e50b34",
   "metadata": {
    "scrolled": false
   },
   "outputs": [
    {
     "name": "stderr",
     "output_type": "stream",
     "text": [
      "C:\\Users\\ASUS\\AppData\\Local\\Temp\\ipykernel_16048\\614670231.py:8: UserWarning: FixedFormatter should only be used together with FixedLocator\n",
      "  ax.set_yticklabels(['{:3.0f}%'.format(x) for x in vals]);\n"
     ]
    },
    {
     "data": {
      "text/html": [
       "<div>\n",
       "<style scoped>\n",
       "    .dataframe tbody tr th:only-of-type {\n",
       "        vertical-align: middle;\n",
       "    }\n",
       "\n",
       "    .dataframe tbody tr th {\n",
       "        vertical-align: top;\n",
       "    }\n",
       "\n",
       "    .dataframe thead th {\n",
       "        text-align: right;\n",
       "    }\n",
       "</style>\n",
       "<table border=\"1\" class=\"dataframe\">\n",
       "  <thead>\n",
       "    <tr style=\"text-align: right;\">\n",
       "      <th>Noshow</th>\n",
       "      <th>Show</th>\n",
       "      <th>NoShow</th>\n",
       "    </tr>\n",
       "    <tr>\n",
       "      <th>AgeGroup</th>\n",
       "      <th></th>\n",
       "      <th></th>\n",
       "    </tr>\n",
       "  </thead>\n",
       "  <tbody>\n",
       "    <tr>\n",
       "      <th>0 - 19</th>\n",
       "      <td>77.84</td>\n",
       "      <td>22.16</td>\n",
       "    </tr>\n",
       "    <tr>\n",
       "      <th>20 - 39</th>\n",
       "      <td>76.87</td>\n",
       "      <td>23.13</td>\n",
       "    </tr>\n",
       "    <tr>\n",
       "      <th>40 - 59</th>\n",
       "      <td>81.19</td>\n",
       "      <td>18.81</td>\n",
       "    </tr>\n",
       "    <tr>\n",
       "      <th>60 - 79</th>\n",
       "      <td>84.88</td>\n",
       "      <td>15.12</td>\n",
       "    </tr>\n",
       "    <tr>\n",
       "      <th>80 - 99</th>\n",
       "      <td>83.71</td>\n",
       "      <td>16.29</td>\n",
       "    </tr>\n",
       "    <tr>\n",
       "      <th>100 - 119</th>\n",
       "      <td>72.73</td>\n",
       "      <td>27.27</td>\n",
       "    </tr>\n",
       "  </tbody>\n",
       "</table>\n",
       "</div>"
      ],
      "text/plain": [
       "Noshow      Show  NoShow\n",
       "AgeGroup                \n",
       "0 - 19     77.84   22.16\n",
       "20 - 39    76.87   23.13\n",
       "40 - 59    81.19   18.81\n",
       "60 - 79    84.88   15.12\n",
       "80 - 99    83.71   16.29\n",
       "100 - 119  72.73   27.27"
      ]
     },
     "execution_count": 105,
     "metadata": {},
     "output_type": "execute_result"
    },
    {
     "data": {
      "image/png": "[encoded data removed]",
      "text/plain": [
       "<Figure size 576x360 with 1 Axes>"
      ]
     },
     "metadata": {
      "needs_background": "light"
     },
     "output_type": "display_data"
    }
   ],
   "source": [
    "#plot the % of shows and noshow per age group\n",
    "\n",
    "bar_plot_func(No_show_apt_df, 'AgeGroup')"
   ]
  },
  {
   "cell_type": "markdown",
   "id": "0fec3ff2",
   "metadata": {},
   "source": [
    "The age goup 60-79 had the highest show-up rate and the age group 100-119 had the lowest show-up rate,\n",
    "While the age group 100-119 had highest no-show rate while the age group 60-79 had the lowest no-show rate."
   ]
  },
  {
   "cell_type": "code",
   "execution_count": 106,
   "id": "c4a22607",
   "metadata": {
    "scrolled": false
   },
   "outputs": [
    {
     "name": "stderr",
     "output_type": "stream",
     "text": [
      "C:\\Users\\ASUS\\AppData\\Local\\Temp\\ipykernel_16048\\3198606213.py:11: UserWarning: FixedFormatter should only be used together with FixedLocator\n",
      "  ax.set_xticklabels(['{:3.0f}%'.format(x) for x in vals])\n"
     ]
    },
    {
     "data": {
      "text/html": [
       "<div>\n",
       "<style scoped>\n",
       "    .dataframe tbody tr th:only-of-type {\n",
       "        vertical-align: middle;\n",
       "    }\n",
       "\n",
       "    .dataframe tbody tr th {\n",
       "        vertical-align: top;\n",
       "    }\n",
       "\n",
       "    .dataframe thead th {\n",
       "        text-align: right;\n",
       "    }\n",
       "</style>\n",
       "<table border=\"1\" class=\"dataframe\">\n",
       "  <thead>\n",
       "    <tr style=\"text-align: right;\">\n",
       "      <th>AgeGroup</th>\n",
       "      <th>0 - 19</th>\n",
       "      <th>20 - 39</th>\n",
       "      <th>40 - 59</th>\n",
       "      <th>60 - 79</th>\n",
       "      <th>80 - 99</th>\n",
       "      <th>100 - 119</th>\n",
       "    </tr>\n",
       "    <tr>\n",
       "      <th>Gender</th>\n",
       "      <th></th>\n",
       "      <th></th>\n",
       "      <th></th>\n",
       "      <th></th>\n",
       "      <th></th>\n",
       "      <th></th>\n",
       "    </tr>\n",
       "  </thead>\n",
       "  <tbody>\n",
       "    <tr>\n",
       "      <th>Female</th>\n",
       "      <td>24.60</td>\n",
       "      <td>33.23</td>\n",
       "      <td>26.82</td>\n",
       "      <td>12.82</td>\n",
       "      <td>2.50</td>\n",
       "      <td>0.02</td>\n",
       "    </tr>\n",
       "    <tr>\n",
       "      <th>Male</th>\n",
       "      <td>40.79</td>\n",
       "      <td>23.68</td>\n",
       "      <td>22.56</td>\n",
       "      <td>10.63</td>\n",
       "      <td>2.34</td>\n",
       "      <td>0.00</td>\n",
       "    </tr>\n",
       "  </tbody>\n",
       "</table>\n",
       "</div>"
      ],
      "text/plain": [
       "AgeGroup  0 - 19  20 - 39  40 - 59  60 - 79  80 - 99  100 - 119\n",
       "Gender                                                         \n",
       "Female     24.60    33.23    26.82    12.82     2.50       0.02\n",
       "Male       40.79    23.68    22.56    10.63     2.34       0.00"
      ]
     },
     "execution_count": 106,
     "metadata": {},
     "output_type": "execute_result"
    },
    {
     "data": {
      "image/png": "[encoded data removed]",
      "text/plain": [
       "<Figure size 720x360 with 1 Axes>"
      ]
     },
     "metadata": {
      "needs_background": "light"
     },
     "output_type": "display_data"
    }
   ],
   "source": [
    "# plot the % NoShowUp % by gender and Age Group\n",
    "\n",
    "proportions_2Vars(NoShow_df,'Gender' ,'AgeGroup')"
   ]
  },
  {
   "cell_type": "markdown",
   "id": "e0110d01",
   "metadata": {},
   "source": [
    "33.23% of the '*NoShowUp*' appointments belong to female patients from the age group (20-39yrs);\n",
    "40.79% of the '*NoShowUp*' appointments belong to male patients from the age group (0-19yrs);\n"
   ]
  },
  {
   "cell_type": "markdown",
   "id": "d089ac53",
   "metadata": {},
   "source": [
    "This chart shows a comparison of the distribution of gender and ages."
   ]
  },
  {
   "cell_type": "markdown",
   "id": "92e0d859",
   "metadata": {},
   "source": [
    "# 5. Conclusion"
   ]
  },
  {
   "cell_type": "markdown",
   "id": "39e7c219",
   "metadata": {},
   "source": [
    "The project was a project to investigate the dataset, to make findings , discover trends and relevant information from the data provided. \n",
    "Below is a summary of my findings from the analysis."
   ]
  },
  {
   "cell_type": "markdown",
   "id": "5d2c3da3",
   "metadata": {},
   "source": [
    "SUMMARY;\n",
    "\n",
    "The overall show-up rate is 79.81%\n",
    "\n",
    "The (%) of female patients is greater than male patients (64.28%, 35.72%)\n",
    "\n",
    "The largest Age group is (0 - 19) years old with 28.89% while the smallest is (100 - 119) years old with 0.01%\n",
    "\n",
    "The age group 0-19 had  the most appointment and the age group 100-119 had the least.\n",
    "\n",
    "The (%) of patients who failed to show up to their appointments is 20.85%\n",
    "\n",
    "The Show-up rate of male patients is slightly greater than the show-up rate of female patients. (80.04% , 79.69%)\n",
    "\n",
    "20.31% of females and 19.69% of the males did not show up for their appointment.\n",
    "\n",
    "The Show-up rate of age group (60 - 79) is the highest with 84.88% where the show-up rate of age group (100 - 119) is the lowest with 72.73%\n",
    "\n",
    "The age group 100-119 had highest no-show rate while the age group 60-79 had the lowest no-show rate."
   ]
  },
  {
   "cell_type": "markdown",
   "id": "8898d702",
   "metadata": {},
   "source": [
    "# LIMITATIONS\n",
    "\n",
    "Some data were excluded as the information they portrayed were not clear. The data excluded includes  five negative waiting duration and one negative entry for age.\n",
    "As most of the columns represent categorical data, and given the type of questions/analysis selected, the visualization charts were mainly (stacked) bar charts, pie charts and Histograms.\n"
   ]
  }
 ],
 "metadata": {
  "kernelspec": {
   "display_name": "Python 3 (ipykernel)",
   "language": "python",
   "name": "python3"
  },
  "language_info": {
   "codemirror_mode": {
    "name": "ipython",
    "version": 3
   },
   "file_extension": ".py",
   "mimetype": "text/x-python",
   "name": "python",
   "nbconvert_exporter": "python",
   "pygments_lexer": "ipython3",
   "version": "3.9.12"
  }
 },
 "nbformat": 4,
 "nbformat_minor": 5
}
